{
 "cells": [
  {
   "cell_type": "code",
   "execution_count": 2,
   "metadata": {},
   "outputs": [],
   "source": [
    "import pandas as pd\n",
    "import os"
   ]
  },
  {
   "cell_type": "code",
   "execution_count": null,
   "metadata": {},
   "outputs": [],
   "source": [
    "HOME = \"/home/aircsrv5/Quan/DataOps/DataOps-bootstrap/demo\"\n",
    "DATA_PATH = f\"{HOME}/include/data/canada-data/small_final_df.csv\"\n",
    "\n",
    "# file_name = os.listdir(f'{HOME}/include/data/canada-data')\n",
    "\n",
    "# file_path = []\n",
    "# for name in file_name:\n",
    "#     path = os.path.join(DATA_PATH, name)\n",
    "#     file_path.append(path)\n",
    "\n",
    "df = pd.read_csv(DATA_PATH)\n",
    "\n"
   ]
  },
  {
   "cell_type": "code",
   "execution_count": null,
   "metadata": {},
   "outputs": [],
   "source": []
  },
  {
   "cell_type": "code",
   "execution_count": 12,
   "metadata": {},
   "outputs": [
    {
     "data": {
      "text/plain": [
       "['data_nl.csv',\n",
       " 'data_mb.csv',\n",
       " 'data_nt.csv',\n",
       " 'data_pe.csv',\n",
       " 'data_bc.csv',\n",
       " 'data_ns.csv',\n",
       " 'data_on.csv',\n",
       " 'data_sk.csv',\n",
       " 'data_ab.csv',\n",
       " 'data_yt.csv',\n",
       " 'data_nb.csv']"
      ]
     },
     "execution_count": 12,
     "metadata": {},
     "output_type": "execute_result"
    }
   ],
   "source": [
    "HOME = \"/home/aircsrv5/Quan/DataOps/DataOps-bootstrap/demo\"\n",
    "os.listdir(f'{HOME}/include/data/canada-data')"
   ]
  }
 ],
 "metadata": {
  "kernelspec": {
   "display_name": "stuff",
   "language": "python",
   "name": "python3"
  },
  "language_info": {
   "codemirror_mode": {
    "name": "ipython",
    "version": 3
   },
   "file_extension": ".py",
   "mimetype": "text/x-python",
   "name": "python",
   "nbconvert_exporter": "python",
   "pygments_lexer": "ipython3",
   "version": "3.10.17"
  }
 },
 "nbformat": 4,
 "nbformat_minor": 2
}
