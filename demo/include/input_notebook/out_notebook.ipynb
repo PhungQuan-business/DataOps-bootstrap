{
 "cells": [
  {
   "cell_type": "code",
   "execution_count": null,
   "id": "d19dd1f7",
   "metadata": {
    "papermill": {
     "duration": 0.000629,
     "end_time": "2025-05-20T10:12:42.525726",
     "exception": false,
     "start_time": "2025-05-20T10:12:42.525097",
     "status": "completed"
    },
    "tags": []
   },
   "outputs": [],
   "source": []
  },
  {
   "cell_type": "code",
   "execution_count": 1,
   "id": "dd9470c2",
   "metadata": {
    "execution": {
     "iopub.execute_input": "2025-05-20T10:12:42.560005Z",
     "iopub.status.busy": "2025-05-20T10:12:42.559888Z",
     "iopub.status.idle": "2025-05-20T10:12:42.563494Z",
     "shell.execute_reply": "2025-05-20T10:12:42.563110Z"
    },
    "papermill": {
     "duration": 0.005067,
     "end_time": "2025-05-20T10:12:42.563961",
     "exception": false,
     "start_time": "2025-05-20T10:12:42.558894",
     "status": "completed"
    },
    "tags": []
   },
   "outputs": [
    {
     "name": "stdout",
     "output_type": "stream",
     "text": [
      "2\n"
     ]
    }
   ],
   "source": [
    "print(1+1)"
   ]
  }
 ],
 "metadata": {
  "kernelspec": {
   "display_name": "stuff",
   "language": "python",
   "name": "python3"
  },
  "language_info": {
   "codemirror_mode": {
    "name": "ipython",
    "version": 3
   },
   "file_extension": ".py",
   "mimetype": "text/x-python",
   "name": "python",
   "nbconvert_exporter": "python",
   "pygments_lexer": "ipython3",
   "version": "3.10.17"
  },
  "papermill": {
   "default_parameters": {},
   "duration": 0.776243,
   "end_time": "2025-05-20T10:12:42.678189",
   "environment_variables": {},
   "exception": null,
   "input_path": "demo/include/notebooks/in_notebook.ipynb",
   "output_path": "demo/include/notebooks/out_notebook.ipynb",
   "parameters": {},
   "start_time": "2025-05-20T10:12:41.901946",
   "version": "2.6.0"
  }
 },
 "nbformat": 4,
 "nbformat_minor": 5
}