{
 "cells": [
  {
   "cell_type": "code",
   "execution_count": 1,
   "id": "5a0ab1aa",
   "metadata": {
    "execution": {
     "iopub.execute_input": "2025-05-24T00:00:01.910456Z",
     "iopub.status.busy": "2025-05-24T00:00:01.910284Z",
     "iopub.status.idle": "2025-05-24T00:00:01.912084Z",
     "shell.execute_reply": "2025-05-24T00:00:01.911905Z"
    },
    "jupyter": {
     "source_hidden": true
    },
    "papermill": {
     "duration": 0.00357,
     "end_time": "2025-05-24T00:00:01.912406",
     "exception": false,
     "start_time": "2025-05-24T00:00:01.908836",
     "status": "completed"
    },
    "tags": [
     "injected-parameters"
    ]
   },
   "outputs": [],
   "source": [
    "# Parameters\n",
    "execution_date = \"2025-05-23 00:00:00+00:00\"\n"
   ]
  },
  {
   "cell_type": "code",
   "execution_count": 2,
   "id": "b6dc64c1",
   "metadata": {
    "execution": {
     "iopub.execute_input": "2025-05-24T00:00:01.913935Z",
     "iopub.status.busy": "2025-05-24T00:00:01.913786Z",
     "iopub.status.idle": "2025-05-24T00:00:04.007881Z",
     "shell.execute_reply": "2025-05-24T00:00:04.007647Z"
    },
    "jupyter": {
     "source_hidden": true
    },
    "papermill": {
     "duration": 2.09544,
     "end_time": "2025-05-24T00:00:04.008598",
     "exception": false,
     "start_time": "2025-05-24T00:00:01.913158",
     "status": "completed"
    },
    "tags": []
   },
   "outputs": [],
   "source": [
    "import great_expectations as gx"
   ]
  },
  {
   "cell_type": "code",
   "execution_count": 3,
   "id": "5e658477",
   "metadata": {
    "execution": {
     "iopub.execute_input": "2025-05-24T00:00:04.010270Z",
     "iopub.status.busy": "2025-05-24T00:00:04.010027Z",
     "iopub.status.idle": "2025-05-24T00:00:04.603582Z",
     "shell.execute_reply": "2025-05-24T00:00:04.603382Z"
    },
    "jupyter": {
     "source_hidden": true
    },
    "papermill": {
     "duration": 0.595,
     "end_time": "2025-05-24T00:00:04.604157",
     "exception": false,
     "start_time": "2025-05-24T00:00:04.009157",
     "status": "completed"
    },
    "tags": []
   },
   "outputs": [
    {
     "name": "stdout",
     "output_type": "stream",
     "text": [
      "<bound method NDFrame.head of        Unnamed: 0                                      streetAddress  \\\n",
      "0               0      8 Long Road, Durrell (Twillingate), NL A0G4M0   \n",
      "1               1    720 Stirling Crescent, Labrador City, NL A2V1Y9   \n",
      "2               2          7 Tobin's Lane, Joe Batt's Arm, NL A0G2X0   \n",
      "3               3                  66 Cabot Drive, Wabush, NL A0R1B0   \n",
      "4               4               12 Long Road, Twillingate, NL A0G1Y0   \n",
      "...           ...                                                ...   \n",
      "46513       14322     9 5756 PROMONTORY ROAD, Chilliwack, BC V2R 0V8   \n",
      "46514       14323     305 46262 FIRST AVENUE, Chilliwack, BC V2P 0C3   \n",
      "46515       14324  204 46211 PROMONTORY ROAD, Chilliwack, BC V2R 6E4   \n",
      "46516       14325      5 45640 STOREY AVENUE, Chilliwack, BC V2R 3C5   \n",
      "46517       14326      51047 SOPHIE CRESCENT, Chilliwack, BC V4Z 0C1   \n",
      "\n",
      "             addressLocality addressRegion postalCode   latitude   longitude  \\\n",
      "0      Durrell (Twillingate)            NL     A0G4M0  49.663209  -54.750490   \n",
      "1              Labrador City            NL     A2V1Y9  52.939810  -66.919526   \n",
      "2             Joe Batt's Arm            NL     A0G2X0  49.727183  -54.155372   \n",
      "3                     Wabush            NL     A0R1B0  52.896270  -66.864862   \n",
      "4                Twillingate            NL     A0G1Y0  49.663434  -54.750749   \n",
      "...                      ...           ...        ...        ...         ...   \n",
      "46513             Chilliwack            BC    V2R 0V8  49.106889 -121.933650   \n",
      "46514             Chilliwack            BC    V2P 0C3  49.168621 -121.943816   \n",
      "46515             Chilliwack            BC    V2R 6E4  49.111388 -121.951673   \n",
      "46516             Chilliwack            BC    V2R 3C5  49.135664 -121.961115   \n",
      "46517             Chilliwack            BC    V4Z 0C1  49.157653 -121.812246   \n",
      "\n",
      "                                             description      price  \\\n",
      "0      Welcome to 8 Long Rd, nestled in the quiet com...   359900.0   \n",
      "1      This 3 bedroom 2 bath duplex is a must-see! It...   389000.0   \n",
      "2      With some renovations and creativity, turn thi...    87500.0   \n",
      "3      Welcome home to this beautifully maintained 4-...   349000.0   \n",
      "4      Nestled in a quiet community on Twillingate Is...   529900.0   \n",
      "...                                                  ...        ...   \n",
      "46513  This warm & welcoming townhome is on point w/ ...   719000.0   \n",
      "46514  This spacious 818 sqft top-floor unit offers 1...   385000.0   \n",
      "46515  Just released- a unique opportunity to own a b...  1129900.0   \n",
      "46516  First time buyers and savvy investors gather '...   525000.0   \n",
      "46517  Nestled in the Eastern Hillsides, this well ma...  1199900.0   \n",
      "\n",
      "      priceCurrency  ...  MLS Area Minor  View Foundation Details  SqFt Range  \\\n",
      "0               CAD  ...             NaN   NaN                NaN         NaN   \n",
      "1               CAD  ...             NaN   NaN                NaN         NaN   \n",
      "2               CAD  ...             NaN   NaN                NaN         NaN   \n",
      "3               CAD  ...             NaN   NaN                NaN         NaN   \n",
      "4               CAD  ...             NaN   NaN                NaN         NaN   \n",
      "...             ...  ...             ...   ...                ...         ...   \n",
      "46513           CAD  ...             NaN   NaN                NaN         NaN   \n",
      "46514           CAD  ...             NaN   NaN                NaN         NaN   \n",
      "46515           CAD  ...             NaN   NaN                NaN         NaN   \n",
      "46516           CAD  ...             NaN   NaN                NaN         NaN   \n",
      "46517           CAD  ...             NaN   NaN                NaN         NaN   \n",
      "\n",
      "       Building Area Source  Buyer Agent Designation  Lot Measurement  \\\n",
      "0                       NaN                      NaN              NaN   \n",
      "1                       NaN                      NaN              NaN   \n",
      "2                       NaN                      NaN              NaN   \n",
      "3                       NaN                      NaN              NaN   \n",
      "4                       NaN                      NaN              NaN   \n",
      "...                     ...                      ...              ...   \n",
      "46513                   NaN                      NaN              NaN   \n",
      "46514                   NaN                      NaN              NaN   \n",
      "46515                   NaN                      NaN              NaN   \n",
      "46516                   NaN                      NaN              NaN   \n",
      "46517                   NaN                      NaN              NaN   \n",
      "\n",
      "      Lot Size Source  Topography  Current Financing  \n",
      "0                 NaN         NaN                NaN  \n",
      "1                 NaN         NaN                NaN  \n",
      "2                 NaN         NaN                NaN  \n",
      "3                 NaN         NaN                NaN  \n",
      "4                 NaN         NaN                NaN  \n",
      "...               ...         ...                ...  \n",
      "46513             NaN         NaN                NaN  \n",
      "46514             NaN         NaN                NaN  \n",
      "46515             NaN         NaN                NaN  \n",
      "46516             NaN         NaN                NaN  \n",
      "46517             NaN         NaN                NaN  \n",
      "\n",
      "[46518 rows x 397 columns]>\n"
     ]
    },
    {
     "name": "stderr",
     "output_type": "stream",
     "text": [
      "/tmp/ipykernel_224986/3078981980.py:5: DtypeWarning: Columns (43,77,88,94,260) have mixed types. Specify dtype option on import or set low_memory=False.\n",
      "  df = pd.read_csv(data_path)\n"
     ]
    }
   ],
   "source": [
    "import os\n",
    "import pandas as pd\n",
    "data_location = os.environ.get('DATA_PATH')\n",
    "data_path = f'{data_location}/small_canada.csv'\n",
    "df = pd.read_csv(data_path)\n",
    "print(df.head)"
   ]
  }
 ],
 "metadata": {
  "kernelspec": {
   "display_name": "stuff",
   "language": "python",
   "name": "python3"
  },
  "language_info": {
   "codemirror_mode": {
    "name": "ipython",
    "version": 3
   },
   "file_extension": ".py",
   "mimetype": "text/x-python",
   "name": "python",
   "nbconvert_exporter": "python",
   "pygments_lexer": "ipython3",
   "version": "3.12.10"
  },
  "papermill": {
   "default_parameters": {},
   "duration": 3.895059,
   "end_time": "2025-05-24T00:00:05.018650",
   "environment_variables": {},
   "exception": null,
   "input_path": "include/input_notebooks/in_notebook.ipynb",
   "output_path": "include/output_notebook/out_notebook.ipynb",
   "parameters": {
    "execution_date": "2025-05-23 00:00:00+00:00"
   },
   "start_time": "2025-05-24T00:00:01.123591",
   "version": "2.6.0"
  }
 },
 "nbformat": 4,
 "nbformat_minor": 5
}