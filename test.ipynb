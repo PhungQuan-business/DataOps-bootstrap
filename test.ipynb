{
 "cells": [
  {
   "cell_type": "code",
   "execution_count": 1,
   "id": "d8b4100e",
   "metadata": {},
   "outputs": [],
   "source": [
    "import pandas as pd\n",
    "import os\n",
    "from dotenv import load_dotenv"
   ]
  },
  {
   "cell_type": "code",
   "execution_count": 2,
   "id": "a04b45b5",
   "metadata": {},
   "outputs": [],
   "source": [
    "HOME = \"/home/aircsrv5/Quan/DataOps/DataOps-bootstrap/demo\"\n",
    "load_dotenv(dotenv_path=f'{HOME}/.env')\n",
    "\n",
    "DATA_DIR = os.environ.get('DATA_PATH')"
   ]
  },
  {
   "cell_type": "code",
   "execution_count": 2,
   "id": "54e99ca7",
   "metadata": {},
   "outputs": [
    {
     "name": "stdout",
     "output_type": "stream",
     "text": [
      "<class 'pandas.core.frame.DataFrame'>\n",
      "RangeIndex: 44896 entries, 0 to 44895\n",
      "Data columns (total 24 columns):\n",
      " #   Column          Non-Null Count  Dtype  \n",
      "---  ------          --------------  -----  \n",
      " 0   City            44896 non-null  object \n",
      " 1   Province        44896 non-null  object \n",
      " 2   Latitude        44896 non-null  float64\n",
      " 3   Longitude       44896 non-null  float64\n",
      " 4   Price           44896 non-null  float64\n",
      " 5   Bedrooms        44896 non-null  float64\n",
      " 6   Bathrooms       44896 non-null  float64\n",
      " 7   Acreage         44896 non-null  float64\n",
      " 8   Property Type   44896 non-null  object \n",
      " 9   Square Footage  44896 non-null  float64\n",
      " 10  Garage          44896 non-null  object \n",
      " 11  Parking         44896 non-null  object \n",
      " 12  Basement        14962 non-null  object \n",
      " 13  Exterior        17439 non-null  object \n",
      " 14  Fireplace       44896 non-null  object \n",
      " 15  Heating         38242 non-null  object \n",
      " 16  Flooring        15216 non-null  object \n",
      " 17  Roof            10052 non-null  object \n",
      " 18  Waterfront      44896 non-null  object \n",
      " 19  Sewer           44896 non-null  object \n",
      " 20  Pool            44896 non-null  object \n",
      " 21  Garden          44896 non-null  object \n",
      " 22  View            12 non-null     object \n",
      " 23  Balcony         44896 non-null  object \n",
      "dtypes: float64(7), object(17)\n",
      "memory usage: 8.2+ MB\n"
     ]
    }
   ],
   "source": [
    "# DATA_PATH = f'{DATA_DIR}/small_canada.csv'\n",
    "import pandas as pd\n",
    "df = pd.read_csv('/home/aircsrv5/Quan/DataOps/DataOps-bootstrap/demo/include/data/cleaned_canada.csv')\n",
    "df.info()"
   ]
  },
  {
   "cell_type": "code",
   "execution_count": 4,
   "id": "df22dc41",
   "metadata": {},
   "outputs": [],
   "source": [
    "import great_expectations as gx\n",
    "import great_expectations.expectations as gxe"
   ]
  },
  {
   "cell_type": "markdown",
   "id": "7c5e2779",
   "metadata": {},
   "source": [
    "# Markdown"
   ]
  },
  {
   "cell_type": "markdown",
   "id": "e518ff89",
   "metadata": {},
   "source": [
    "## Define GX context"
   ]
  },
  {
   "cell_type": "code",
   "execution_count": 5,
   "id": "ca080473",
   "metadata": {},
   "outputs": [],
   "source": [
    "# context = gx.get_context(mode=\"file\")\n",
    "# Retrieve your Data Context\n",
    "context = gx.get_context()\n",
    "assert type(context).__name__ == \"EphemeralDataContext\""
   ]
  },
  {
   "cell_type": "markdown",
   "id": "547d4acf",
   "metadata": {},
   "source": [
    "## Define Data Source"
   ]
  },
  {
   "cell_type": "code",
   "execution_count": 6,
   "id": "38bc9ff1",
   "metadata": {},
   "outputs": [],
   "source": [
    "import great_expectations as gx\n",
    "\n",
    "# Define the Data Source name\n",
    "data_source_name = \"canada_data_source\"\n",
    "\n",
    "# Add the Data Source to the Data Context\n",
    "data_source = context.data_sources.add_pandas(name=data_source_name)\n",
    "assert data_source.name == data_source_name"
   ]
  },
  {
   "cell_type": "markdown",
   "id": "3612448d",
   "metadata": {},
   "source": [
    "## Define Data Asset"
   ]
  },
  {
   "cell_type": "code",
   "execution_count": 7,
   "id": "baa70f8f",
   "metadata": {},
   "outputs": [],
   "source": [
    "import great_expectations as gx\n",
    "\n",
    "# Retrieve the Data Source\n",
    "data_source_name = \"canada_data_source\"\n",
    "data_source = context.data_sources.get(data_source_name)\n",
    "\n",
    "# Define the Data Asset name\n",
    "data_asset_name = \"canada_data_asset\"\n",
    "\n",
    "# Add a Data Asset to the Data Source\n",
    "data_asset = data_source.add_dataframe_asset(name=data_asset_name)\n",
    "\n",
    "assert data_asset.name == data_asset_name"
   ]
  },
  {
   "cell_type": "markdown",
   "id": "884be2dc",
   "metadata": {},
   "source": [
    "## Define a Batch Definition"
   ]
  },
  {
   "cell_type": "code",
   "execution_count": 8,
   "id": "e5014e67",
   "metadata": {},
   "outputs": [],
   "source": [
    "import great_expectations as gx\n",
    "\n",
    "# Retrieve the Data Asset\n",
    "data_source_name = \"canada_data_source\"\n",
    "data_asset_name = \"canada_data_asset\"\n",
    "data_asset = context.data_sources.get(data_source_name).get_asset(data_asset_name)\n",
    "\n",
    "# Define the Batch Definition name\n",
    "batch_definition_name = \"canada_batch_definition\"\n",
    "\n",
    "# Add a Batch Definition to the Data Asset\n",
    "batch_definition = data_asset.add_batch_definition_whole_dataframe(\n",
    "    batch_definition_name\n",
    ")\n",
    "assert batch_definition.name == batch_definition_name"
   ]
  },
  {
   "cell_type": "markdown",
   "id": "1567f469",
   "metadata": {},
   "source": [
    "## Define a Batch Parameters"
   ]
  },
  {
   "cell_type": "code",
   "execution_count": 9,
   "id": "a442ad6a",
   "metadata": {},
   "outputs": [],
   "source": [
    "import pandas as pd\n",
    "\n",
    "DATA_PATH = f'{DATA_DIR}/small_canada.csv'\n",
    "\n",
    "dataframe = pd.read_csv('/home/aircsrv5/Quan/DataOps/DataOps-bootstrap/demo/include/data/yellow_tripdata_sample_2019-01.csv')\n",
    "dataframe.head()\n",
    "\n",
    "batch_parameters = {\"dataframe\": dataframe}"
   ]
  },
  {
   "cell_type": "markdown",
   "id": "29849de4",
   "metadata": {},
   "source": [
    "## Define Expectations and Validate Batch against expectations"
   ]
  },
  {
   "cell_type": "code",
   "execution_count": 10,
   "id": "0e835f69",
   "metadata": {},
   "outputs": [
    {
     "name": "stderr",
     "output_type": "stream",
     "text": [
      "Calculating Metrics: 100%|██████████| 10/10 [00:00<00:00, 2805.93it/s]"
     ]
    },
    {
     "name": "stdout",
     "output_type": "stream",
     "text": [
      "{\n",
      "  \"success\": true,\n",
      "  \"expectation_config\": {\n",
      "    \"type\": \"expect_column_values_to_be_between\",\n",
      "    \"kwargs\": {\n",
      "      \"batch_id\": \"canada_data_source-canada_data_asset\",\n",
      "      \"column\": \"passenger_count\",\n",
      "      \"min_value\": 1.0,\n",
      "      \"max_value\": 6.0\n",
      "    },\n",
      "    \"meta\": {}\n",
      "  },\n",
      "  \"result\": {\n",
      "    \"element_count\": 10000,\n",
      "    \"unexpected_count\": 0,\n",
      "    \"unexpected_percent\": 0.0,\n",
      "    \"partial_unexpected_list\": [],\n",
      "    \"missing_count\": 0,\n",
      "    \"missing_percent\": 0.0,\n",
      "    \"unexpected_percent_total\": 0.0,\n",
      "    \"unexpected_percent_nonmissing\": 0.0,\n",
      "    \"partial_unexpected_counts\": [],\n",
      "    \"partial_unexpected_index_list\": []\n",
      "  },\n",
      "  \"meta\": {},\n",
      "  \"exception_info\": {\n",
      "    \"raised_exception\": false,\n",
      "    \"exception_traceback\": null,\n",
      "    \"exception_message\": null\n",
      "  }\n",
      "}\n"
     ]
    },
    {
     "name": "stderr",
     "output_type": "stream",
     "text": [
      "\n"
     ]
    }
   ],
   "source": [
    "import great_expectations as gx\n",
    "\n",
    "# Retrieve the dataframe Batch Definition\n",
    "data_source_name = \"canada_data_source\"\n",
    "data_asset_name = \"canada_data_asset\"\n",
    "batch_definition_name = \"canada_batch_definition\"\n",
    "batch_definition = (\n",
    "    context.data_sources.get(data_source_name)\n",
    "    .get_asset(data_asset_name)\n",
    "    .get_batch_definition(batch_definition_name)\n",
    ")\n",
    "\n",
    "# Create an Expectation to test\n",
    "expectation = gx.expectations.ExpectColumnValuesToBeBetween(\n",
    "    column=\"passenger_count\", max_value=6, min_value=1\n",
    ")\n",
    "\n",
    "# Get the dataframe as a Batch\n",
    "batch = batch_definition.get_batch(batch_parameters=batch_parameters)\n",
    "\n",
    "# Test the Expectation\n",
    "validation_results = batch.validate(expectation)\n",
    "print(validation_results)"
   ]
  },
  {
   "cell_type": "code",
   "execution_count": null,
   "id": "4e472819",
   "metadata": {},
   "outputs": [],
   "source": [
    "context.build_data_docs()\n"
   ]
  },
  {
   "cell_type": "code",
   "execution_count": 13,
   "id": "c5924c79",
   "metadata": {},
   "outputs": [],
   "source": [
    "context.open_data_docs()"
   ]
  },
  {
   "cell_type": "code",
   "execution_count": 1,
   "id": "8eb5a85c",
   "metadata": {},
   "outputs": [],
   "source": [
    "import pandas as pd\n",
    "\n",
    "data_ab = pd.read_csv('/home/aircsrv5/Quan/DataOps/Data-for-testing/canada-house-price/archive-2/data_ab.csv', low_memory=False)\n",
    "data_bc = pd.read_csv('/home/aircsrv5/Quan/DataOps/Data-for-testing/canada-house-price/archive-2/data_bc.csv', low_memory=False)\n",
    "data_mb = pd.read_csv('/home/aircsrv5/Quan/DataOps/Data-for-testing/canada-house-price/archive-2/data_mb.csv', low_memory=False)\n",
    "data_nb = pd.read_csv('/home/aircsrv5/Quan/DataOps/Data-for-testing/canada-house-price/archive-2/data_nb.csv', low_memory=False)\n",
    "data_nl = pd.read_csv('/home/aircsrv5/Quan/DataOps/Data-for-testing/canada-house-price/archive-2/data_nl.csv', low_memory=False)\n",
    "data_ns = pd.read_csv('/home/aircsrv5/Quan/DataOps/Data-for-testing/canada-house-price/archive-2/data_ns.csv', low_memory=False)\n",
    "data_nt = pd.read_csv('/home/aircsrv5/Quan/DataOps/Data-for-testing/canada-house-price/archive-2/data_nt.csv', low_memory=False)\n",
    "data_on = pd.read_csv('/home/aircsrv5/Quan/DataOps/Data-for-testing/canada-house-price/archive-2/data_on.csv', low_memory=False)\n",
    "data_pe = pd.read_csv('/home/aircsrv5/Quan/DataOps/Data-for-testing/canada-house-price/archive-2/data_pe.csv', low_memory=False)\n",
    "data_sk = pd.read_csv('/home/aircsrv5/Quan/DataOps/Data-for-testing/canada-house-price/archive-2/data_sk.csv', low_memory=False)\n",
    "data_yt = pd.read_csv('/home/aircsrv5/Quan/DataOps/Data-for-testing/canada-house-price/archive-2/data_yt.csv', low_memory=False)"
   ]
  },
  {
   "cell_type": "code",
   "execution_count": 2,
   "id": "1fbccc55",
   "metadata": {},
   "outputs": [
    {
     "data": {
      "text/plain": [
       "(133725, 396)"
      ]
     },
     "execution_count": 2,
     "metadata": {},
     "output_type": "execute_result"
    }
   ],
   "source": [
    "df = pd.concat([data_ab, data_bc, data_mb, data_nb, data_nl, \n",
    "                data_ns, data_nt, data_on, data_pe, data_sk,\n",
    "                data_yt], axis=0) \n",
    "df.shape\n",
    "\n"
   ]
  },
  {
   "cell_type": "code",
   "execution_count": 3,
   "id": "bcd4f7f9",
   "metadata": {},
   "outputs": [],
   "source": [
    "df.to_csv(\"full_canada.csv\", index=False)"
   ]
  },
  {
   "cell_type": "code",
   "execution_count": 6,
   "id": "c40e8156",
   "metadata": {},
   "outputs": [
    {
     "name": "stderr",
     "output_type": "stream",
     "text": [
      "/tmp/ipykernel_2444356/274533351.py:2: DtypeWarning: Columns (42,87,93,259) have mixed types. Specify dtype option on import or set low_memory=False.\n",
      "  df = pd.read_csv(file_path)\n"
     ]
    }
   ],
   "source": [
    "file_path = \"/home/aircsrv5/Quan/DataOps/DataOps-bootstrap/full_canada.csv\"\n",
    "df = pd.read_csv(file_path)"
   ]
  },
  {
   "cell_type": "code",
   "execution_count": 7,
   "id": "a48799eb",
   "metadata": {},
   "outputs": [
    {
     "name": "stdout",
     "output_type": "stream",
     "text": [
      "Upstairs, the primary retreat impresses with a massive walk-in closet and a spa-like ensuite featuring dual vanities, a tiled soaker tub, a stand-up shower, and two large windows. Down the hall, you’ll find two additional bedrooms, a shared 4-piece bath, an upper-floor laundry with a side-by-side washer and dryer, and a bright bonus room for family relaxation.\n",
      "\n"
     ]
    }
   ],
   "source": [
    "with open(file_path) as f:\n",
    "    for i, line in enumerate(f):\n",
    "        if i == 11091:  # zero-indexed, so line 11092 is at index 11091\n",
    "            print(line)\n",
    "            break"
   ]
  }
 ],
 "metadata": {
  "kernelspec": {
   "display_name": "stuff",
   "language": "python",
   "name": "python3"
  },
  "language_info": {
   "codemirror_mode": {
    "name": "ipython",
    "version": 3
   },
   "file_extension": ".py",
   "mimetype": "text/x-python",
   "name": "python",
   "nbconvert_exporter": "python",
   "pygments_lexer": "ipython3",
   "version": "3.10.17"
  }
 },
 "nbformat": 4,
 "nbformat_minor": 5
}
