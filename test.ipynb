{
 "cells": [
  {
   "cell_type": "code",
   "execution_count": 1,
   "id": "d8b4100e",
   "metadata": {},
   "outputs": [],
   "source": [
    "import pandas as pd\n",
    "import os\n",
    "from dotenv import load_dotenv"
   ]
  },
  {
   "cell_type": "code",
   "execution_count": 2,
   "id": "a04b45b5",
   "metadata": {},
   "outputs": [],
   "source": [
    "HOME = \"/home/aircsrv5/Quan/DataOps/DataOps-bootstrap/demo\"\n",
    "load_dotenv(dotenv_path=f'{HOME}/.env')\n",
    "\n",
    "DATA_DIR = os.environ.get('DATA_PATH')"
   ]
  },
  {
   "cell_type": "code",
   "execution_count": 3,
   "id": "54e99ca7",
   "metadata": {},
   "outputs": [
    {
     "name": "stderr",
     "output_type": "stream",
     "text": [
      "/tmp/ipykernel_3237513/2760349747.py:3: DtypeWarning: Columns (43,77,88,94,260) have mixed types. Specify dtype option on import or set low_memory=False.\n",
      "  df = pd.read_csv('/home/aircsrv5/Quan/DataOps/DataOps-bootstrap/demo/include/data/small_canada.csv')\n"
     ]
    },
    {
     "data": {
      "application/vnd.microsoft.datawrangler.viewer.v0+json": {
       "columns": [
        {
         "name": "index",
         "rawType": "int64",
         "type": "integer"
        },
        {
         "name": "Unnamed: 0",
         "rawType": "int64",
         "type": "integer"
        },
        {
         "name": "streetAddress",
         "rawType": "object",
         "type": "string"
        },
        {
         "name": "addressLocality",
         "rawType": "object",
         "type": "string"
        },
        {
         "name": "addressRegion",
         "rawType": "object",
         "type": "string"
        },
        {
         "name": "postalCode",
         "rawType": "object",
         "type": "string"
        },
        {
         "name": "latitude",
         "rawType": "float64",
         "type": "float"
        },
        {
         "name": "longitude",
         "rawType": "float64",
         "type": "float"
        },
        {
         "name": "description",
         "rawType": "object",
         "type": "string"
        },
        {
         "name": "price",
         "rawType": "float64",
         "type": "float"
        },
        {
         "name": "priceCurrency",
         "rawType": "object",
         "type": "string"
        },
        {
         "name": "property-beds",
         "rawType": "float64",
         "type": "float"
        },
        {
         "name": "property-baths",
         "rawType": "float64",
         "type": "float"
        },
        {
         "name": "property-sqft",
         "rawType": "object",
         "type": "string"
        },
        {
         "name": "Acreage",
         "rawType": "float64",
         "type": "float"
        },
        {
         "name": "Air Conditioning",
         "rawType": "float64",
         "type": "float"
        },
        {
         "name": "Year Built",
         "rawType": "float64",
         "type": "float"
        },
        {
         "name": "Area",
         "rawType": "float64",
         "type": "float"
        },
        {
         "name": "Basement",
         "rawType": "object",
         "type": "string"
        },
        {
         "name": "Bath",
         "rawType": "float64",
         "type": "float"
        },
        {
         "name": "Full Bathrooms",
         "rawType": "float64",
         "type": "float"
        },
        {
         "name": "Half Bathrooms",
         "rawType": "float64",
         "type": "float"
        },
        {
         "name": "Bedroom",
         "rawType": "float64",
         "type": "float"
        },
        {
         "name": "Bonus Room",
         "rawType": "float64",
         "type": "float"
        },
        {
         "name": "Breakfast",
         "rawType": "float64",
         "type": "float"
        },
        {
         "name": "Contract Conditions",
         "rawType": "float64",
         "type": "float"
        },
        {
         "name": "Cooling",
         "rawType": "float64",
         "type": "float"
        },
        {
         "name": "Den",
         "rawType": "float64",
         "type": "float"
        },
        {
         "name": "Property Details",
         "rawType": "float64",
         "type": "float"
        },
        {
         "name": "Dining Room",
         "rawType": "float64",
         "type": "float"
        },
        {
         "name": "Driveway",
         "rawType": "float64",
         "type": "float"
        },
        {
         "name": "Exterior",
         "rawType": "object",
         "type": "string"
        },
        {
         "name": "Exterior Features",
         "rawType": "object",
         "type": "string"
        },
        {
         "name": "Family Room",
         "rawType": "float64",
         "type": "float"
        },
        {
         "name": "Features",
         "rawType": "object",
         "type": "string"
        },
        {
         "name": "Fees",
         "rawType": "float64",
         "type": "float"
        },
        {
         "name": "Finished Basement",
         "rawType": "float64",
         "type": "float"
        },
        {
         "name": "Fireplace",
         "rawType": "object",
         "type": "string"
        },
        {
         "name": "Fireplaces",
         "rawType": "float64",
         "type": "float"
        },
        {
         "name": "Formal Dining",
         "rawType": "float64",
         "type": "float"
        },
        {
         "name": "Foundation",
         "rawType": "float64",
         "type": "float"
        },
        {
         "name": "Foyer",
         "rawType": "float64",
         "type": "float"
        },
        {
         "name": "Gallery",
         "rawType": "float64",
         "type": "float"
        },
        {
         "name": "Game Room",
         "rawType": "float64",
         "type": "float"
        },
        {
         "name": "Garage",
         "rawType": "object",
         "type": "unknown"
        },
        {
         "name": "Garage Spaces",
         "rawType": "float64",
         "type": "float"
        },
        {
         "name": "Garage Type",
         "rawType": "float64",
         "type": "float"
        },
        {
         "name": "Great Room",
         "rawType": "float64",
         "type": "float"
        },
        {
         "name": "Heating",
         "rawType": "object",
         "type": "string"
        },
        {
         "name": "Heating Source",
         "rawType": "float64",
         "type": "float"
        },
        {
         "name": "Home Features",
         "rawType": "float64",
         "type": "float"
        },
        {
         "name": "Interior Features",
         "rawType": "float64",
         "type": "float"
        },
        {
         "name": "Kitchen",
         "rawType": "float64",
         "type": "float"
        },
        {
         "name": "Last Updated",
         "rawType": "float64",
         "type": "float"
        },
        {
         "name": "Laundry Room",
         "rawType": "float64",
         "type": "float"
        },
        {
         "name": "Date Listed",
         "rawType": "float64",
         "type": "float"
        },
        {
         "name": "Listing ID",
         "rawType": "float64",
         "type": "float"
        },
        {
         "name": "Living Room",
         "rawType": "float64",
         "type": "float"
        },
        {
         "name": "Lot Size",
         "rawType": "float64",
         "type": "float"
        },
        {
         "name": "Master Bath",
         "rawType": "float64",
         "type": "float"
        },
        {
         "name": "Master Bedroom",
         "rawType": "float64",
         "type": "float"
        },
        {
         "name": "Master Bedroom First Floor",
         "rawType": "float64",
         "type": "float"
        },
        {
         "name": "Media Room",
         "rawType": "float64",
         "type": "float"
        },
        {
         "name": "MLS® #",
         "rawType": "object",
         "type": "string"
        },
        {
         "name": "Model Type",
         "rawType": "float64",
         "type": "float"
        },
        {
         "name": "Mortgage Calculator",
         "rawType": "float64",
         "type": "float"
        },
        {
         "name": "Neighbourhood Features",
         "rawType": "float64",
         "type": "float"
        },
        {
         "name": "N/A",
         "rawType": "float64",
         "type": "float"
        },
        {
         "name": "Occupancy",
         "rawType": "float64",
         "type": "float"
        },
        {
         "name": "Office/Den",
         "rawType": "float64",
         "type": "float"
        },
        {
         "name": "Other",
         "rawType": "float64",
         "type": "float"
        },
        {
         "name": "Ownership Type",
         "rawType": "float64",
         "type": "float"
        },
        {
         "name": "Parking Spaces",
         "rawType": "float64",
         "type": "float"
        },
        {
         "name": "Partial Bathroom",
         "rawType": "float64",
         "type": "float"
        },
        {
         "name": "Pet Policy",
         "rawType": "float64",
         "type": "float"
        },
        {
         "name": "Pool",
         "rawType": "float64",
         "type": "float"
        },
        {
         "name": "Property Tax",
         "rawType": "object",
         "type": "string"
        },
        {
         "name": "Property Type",
         "rawType": "object",
         "type": "string"
        },
        {
         "name": "Roof",
         "rawType": "object",
         "type": "string"
        },
        {
         "name": "Room Details",
         "rawType": "float64",
         "type": "float"
        },
        {
         "name": "Rooms",
         "rawType": "float64",
         "type": "float"
        },
        {
         "name": "School District",
         "rawType": "float64",
         "type": "float"
        },
        {
         "name": "See more details",
         "rawType": "float64",
         "type": "float"
        },
        {
         "name": "See less details",
         "rawType": "float64",
         "type": "float"
        },
        {
         "name": "Sewer",
         "rawType": "object",
         "type": "string"
        },
        {
         "name": "Square Footage",
         "rawType": "object",
         "type": "string"
        },
        {
         "name": "Status",
         "rawType": "float64",
         "type": "float"
        },
        {
         "name": "Stories",
         "rawType": "float64",
         "type": "float"
        },
        {
         "name": "Style",
         "rawType": "float64",
         "type": "float"
        },
        {
         "name": "Subdivision",
         "rawType": "object",
         "type": "unknown"
        },
        {
         "name": "Tax Year",
         "rawType": "float64",
         "type": "float"
        },
        {
         "name": "Total Acres",
         "rawType": "float64",
         "type": "float"
        },
        {
         "name": "Transaction Type",
         "rawType": "float64",
         "type": "float"
        },
        {
         "name": "Type",
         "rawType": "object",
         "type": "string"
        },
        {
         "name": "Utility Room",
         "rawType": "float64",
         "type": "float"
        },
        {
         "name": "Waterfront",
         "rawType": "object",
         "type": "unknown"
        },
        {
         "name": "Waterview",
         "rawType": "float64",
         "type": "float"
        },
        {
         "name": "Yes",
         "rawType": "float64",
         "type": "float"
        },
        {
         "name": "Heating Fuel",
         "rawType": "float64",
         "type": "float"
        },
        {
         "name": "Heating/Cooling",
         "rawType": "float64",
         "type": "float"
        },
        {
         "name": "Basement Description",
         "rawType": "float64",
         "type": "float"
        },
        {
         "name": "Basement Details",
         "rawType": "float64",
         "type": "float"
        },
        {
         "name": "Basement Development",
         "rawType": "float64",
         "type": "float"
        },
        {
         "name": "Basement Type",
         "rawType": "float64",
         "type": "float"
        },
        {
         "name": "Basement Walls",
         "rawType": "float64",
         "type": "float"
        },
        {
         "name": "Fireplace Description",
         "rawType": "float64",
         "type": "float"
        },
        {
         "name": "Fireplace Fuel",
         "rawType": "float64",
         "type": "float"
        },
        {
         "name": "Fireplace Location",
         "rawType": "float64",
         "type": "float"
        },
        {
         "name": "Fireplace Type",
         "rawType": "float64",
         "type": "float"
        },
        {
         "name": "Fireplace Y/N",
         "rawType": "float64",
         "type": "float"
        },
        {
         "name": "Parking",
         "rawType": "object",
         "type": "string"
        },
        {
         "name": "Parking Description",
         "rawType": "float64",
         "type": "float"
        },
        {
         "name": "Parking Surface",
         "rawType": "float64",
         "type": "float"
        },
        {
         "name": "Parking Types",
         "rawType": "float64",
         "type": "float"
        },
        {
         "name": "Garage Capacity",
         "rawType": "float64",
         "type": "float"
        },
        {
         "name": "Garage Description",
         "rawType": "float64",
         "type": "float"
        },
        {
         "name": "Garage/Carport",
         "rawType": "float64",
         "type": "float"
        },
        {
         "name": "Exterior Finish",
         "rawType": "float64",
         "type": "float"
        },
        {
         "name": "Pool Features",
         "rawType": "float64",
         "type": "float"
        },
        {
         "name": "Pool YN",
         "rawType": "float64",
         "type": "float"
        },
        {
         "name": "Roofing",
         "rawType": "float64",
         "type": "float"
        },
        {
         "name": "Roofing Description",
         "rawType": "float64",
         "type": "float"
        },
        {
         "name": "Lease",
         "rawType": "float64",
         "type": "float"
        },
        {
         "name": "Lease Requirements",
         "rawType": "float64",
         "type": "float"
        },
        {
         "name": "Lease Term",
         "rawType": "float64",
         "type": "float"
        },
        {
         "name": "Architecture",
         "rawType": "float64",
         "type": "float"
        },
        {
         "name": "Year Built Description",
         "rawType": "float64",
         "type": "float"
        },
        {
         "name": "Year Built Source",
         "rawType": "float64",
         "type": "float"
        },
        {
         "name": "Approx Age",
         "rawType": "float64",
         "type": "float"
        },
        {
         "name": "Location",
         "rawType": "float64",
         "type": "float"
        },
        {
         "name": "Ownership",
         "rawType": "float64",
         "type": "float"
        },
        {
         "name": "Pets Allowed",
         "rawType": "float64",
         "type": "float"
        },
        {
         "name": "Levels",
         "rawType": "float64",
         "type": "float"
        },
        {
         "name": "SqFT Range",
         "rawType": "float64",
         "type": "float"
        },
        {
         "name": "Inclusions",
         "rawType": "float64",
         "type": "float"
        },
        {
         "name": "Appliances",
         "rawType": "float64",
         "type": "float"
        },
        {
         "name": "Exclusions",
         "rawType": "float64",
         "type": "float"
        },
        {
         "name": "Electric",
         "rawType": "float64",
         "type": "float"
        },
        {
         "name": "Electric Available",
         "rawType": "float64",
         "type": "float"
        },
        {
         "name": "Ensuite",
         "rawType": "float64",
         "type": "float"
        },
        {
         "name": "Family Room Level",
         "rawType": "float64",
         "type": "float"
        },
        {
         "name": "Floor Location",
         "rawType": "float64",
         "type": "float"
        },
        {
         "name": "Fuel",
         "rawType": "float64",
         "type": "float"
        },
        {
         "name": "Fuel Type",
         "rawType": "float64",
         "type": "float"
        },
        {
         "name": "Furnace",
         "rawType": "float64",
         "type": "float"
        },
        {
         "name": "Furnished",
         "rawType": "float64",
         "type": "float"
        },
        {
         "name": "Gas",
         "rawType": "float64",
         "type": "float"
        },
        {
         "name": "Gas Available",
         "rawType": "float64",
         "type": "float"
        },
        {
         "name": "Hot Water",
         "rawType": "float64",
         "type": "float"
        },
        {
         "name": "Interior",
         "rawType": "float64",
         "type": "float"
        },
        {
         "name": "Interior Layout",
         "rawType": "float64",
         "type": "float"
        },
        {
         "name": "Interior Maintenance/Repairs Paid By",
         "rawType": "float64",
         "type": "float"
        },
        {
         "name": "Laundry",
         "rawType": "float64",
         "type": "float"
        },
        {
         "name": "Laundry Description",
         "rawType": "float64",
         "type": "float"
        },
        {
         "name": "Laundry Location",
         "rawType": "float64",
         "type": "float"
        },
        {
         "name": "LaundryFeatures",
         "rawType": "float64",
         "type": "float"
        },
        {
         "name": "Natural Gas",
         "rawType": "float64",
         "type": "float"
        },
        {
         "name": "Number Of Fireplaces",
         "rawType": "float64",
         "type": "float"
        },
        {
         "name": "Plumbing",
         "rawType": "float64",
         "type": "float"
        },
        {
         "name": "Power",
         "rawType": "float64",
         "type": "float"
        },
        {
         "name": "Power Source",
         "rawType": "float64",
         "type": "float"
        },
        {
         "name": "Smoke Detector(s)",
         "rawType": "float64",
         "type": "float"
        },
        {
         "name": "Master Description",
         "rawType": "float64",
         "type": "float"
        },
        {
         "name": "Br Description",
         "rawType": "float64",
         "type": "float"
        },
        {
         "name": "2nd Br Description",
         "rawType": "float64",
         "type": "float"
        },
        {
         "name": "3rd Br Description",
         "rawType": "float64",
         "type": "float"
        },
        {
         "name": "4th Br Description",
         "rawType": "float64",
         "type": "float"
        },
        {
         "name": "5th Br Description",
         "rawType": "float64",
         "type": "float"
        },
        {
         "name": "Pantry Description",
         "rawType": "float64",
         "type": "float"
        },
        {
         "name": "Foyer Description",
         "rawType": "float64",
         "type": "float"
        },
        {
         "name": "Dining Description",
         "rawType": "float64",
         "type": "float"
        },
        {
         "name": "Living Description",
         "rawType": "float64",
         "type": "float"
        },
        {
         "name": "Kitchen Description",
         "rawType": "float64",
         "type": "float"
        },
        {
         "name": "Sitting Description",
         "rawType": "float64",
         "type": "float"
        },
        {
         "name": "Den Description",
         "rawType": "float64",
         "type": "float"
        },
        {
         "name": "Family Description",
         "rawType": "float64",
         "type": "float"
        },
        {
         "name": "Bathroom Description",
         "rawType": "float64",
         "type": "float"
        },
        {
         "name": "Office Description",
         "rawType": "float64",
         "type": "float"
        },
        {
         "name": "Rec Description",
         "rawType": "float64",
         "type": "float"
        },
        {
         "name": "Breakfast Description",
         "rawType": "float64",
         "type": "float"
        },
        {
         "name": "Workshop description",
         "rawType": "float64",
         "type": "float"
        },
        {
         "name": "Tandem Description",
         "rawType": "float64",
         "type": "float"
        },
        {
         "name": "Sunroom Description",
         "rawType": "float64",
         "type": "float"
        },
        {
         "name": "Study Description",
         "rawType": "float64",
         "type": "float"
        },
        {
         "name": "Solarium Description",
         "rawType": "float64",
         "type": "float"
        },
        {
         "name": "Powder Room Description",
         "rawType": "float64",
         "type": "float"
        },
        {
         "name": "Play Description",
         "rawType": "float64",
         "type": "float"
        },
        {
         "name": "Nursery Description",
         "rawType": "float64",
         "type": "float"
        },
        {
         "name": "Mudroom Description",
         "rawType": "float64",
         "type": "float"
        },
        {
         "name": "Media/Ent Description",
         "rawType": "float64",
         "type": "float"
        },
        {
         "name": "Library Description",
         "rawType": "float64",
         "type": "float"
        },
        {
         "name": "Great Room Description",
         "rawType": "float64",
         "type": "float"
        },
        {
         "name": "Games Description",
         "rawType": "float64",
         "type": "float"
        },
        {
         "name": "Furnace Description",
         "rawType": "float64",
         "type": "float"
        },
        {
         "name": "Exercise Description",
         "rawType": "float64",
         "type": "float"
        },
        {
         "name": "Dinning Description",
         "rawType": "float64",
         "type": "float"
        },
        {
         "name": "Common Room Description",
         "rawType": "float64",
         "type": "float"
        },
        {
         "name": "Cold/Cant Description",
         "rawType": "float64",
         "type": "float"
        },
        {
         "name": "Locker",
         "rawType": "float64",
         "type": "float"
        },
        {
         "name": "Locker Description",
         "rawType": "float64",
         "type": "float"
        },
        {
         "name": "Heating Fuels",
         "rawType": "float64",
         "type": "float"
        },
        {
         "name": "Flooring",
         "rawType": "object",
         "type": "string"
        },
        {
         "name": "HVAC",
         "rawType": "float64",
         "type": "float"
        },
        {
         "name": "Waterfront Features",
         "rawType": "float64",
         "type": "float"
        },
        {
         "name": "Waterfront YN",
         "rawType": "float64",
         "type": "float"
        },
        {
         "name": "Access",
         "rawType": "float64",
         "type": "float"
        },
        {
         "name": "Access Road",
         "rawType": "float64",
         "type": "float"
        },
        {
         "name": "Building Style",
         "rawType": "float64",
         "type": "float"
        },
        {
         "name": "Building Type",
         "rawType": "float64",
         "type": "float"
        },
        {
         "name": "Buildings",
         "rawType": "float64",
         "type": "float"
        },
        {
         "name": "Bush",
         "rawType": "float64",
         "type": "float"
        },
        {
         "name": "Carport",
         "rawType": "float64",
         "type": "float"
        },
        {
         "name": "Construction",
         "rawType": "float64",
         "type": "float"
        },
        {
         "name": "Construction Materials",
         "rawType": "float64",
         "type": "float"
        },
        {
         "name": "Construction Type",
         "rawType": "float64",
         "type": "float"
        },
        {
         "name": "Covered Parking",
         "rawType": "float64",
         "type": "float"
        },
        {
         "name": "Direction Facing",
         "rawType": "float64",
         "type": "float"
        },
        {
         "name": "District",
         "rawType": "float64",
         "type": "float"
        },
        {
         "name": "Exposure",
         "rawType": "float64",
         "type": "float"
        },
        {
         "name": "Extra Structures",
         "rawType": "float64",
         "type": "float"
        },
        {
         "name": "Fence",
         "rawType": "float64",
         "type": "float"
        },
        {
         "name": "Fencing",
         "rawType": "float64",
         "type": "float"
        },
        {
         "name": "Fronting On",
         "rawType": "float64",
         "type": "float"
        },
        {
         "name": "Frontage",
         "rawType": "float64",
         "type": "float"
        },
        {
         "name": "Gated",
         "rawType": "float64",
         "type": "float"
        },
        {
         "name": "Loading Dock",
         "rawType": "float64",
         "type": "float"
        },
        {
         "name": "Loading Info",
         "rawType": "float64",
         "type": "float"
        },
        {
         "name": "Major Area",
         "rawType": "float64",
         "type": "float"
        },
        {
         "name": "Out Buildings",
         "rawType": "float64",
         "type": "float"
        },
        {
         "name": "Outdoor Area",
         "rawType": "float64",
         "type": "float"
        },
        {
         "name": "Patio",
         "rawType": "float64",
         "type": "float"
        },
        {
         "name": "Present Structures",
         "rawType": "float64",
         "type": "float"
        },
        {
         "name": "Rear Exposure",
         "rawType": "float64",
         "type": "float"
        },
        {
         "name": "Road",
         "rawType": "float64",
         "type": "float"
        },
        {
         "name": "Road Between Waterfront And Home",
         "rawType": "float64",
         "type": "float"
        },
        {
         "name": "Site Description",
         "rawType": "float64",
         "type": "float"
        },
        {
         "name": "Site Influence",
         "rawType": "float64",
         "type": "float"
        },
        {
         "name": "Site Influences",
         "rawType": "float64",
         "type": "float"
        },
        {
         "name": "Site Information",
         "rawType": "float64",
         "type": "float"
        },
        {
         "name": "Soil",
         "rawType": "float64",
         "type": "float"
        },
        {
         "name": "Sprinklers",
         "rawType": "float64",
         "type": "float"
        },
        {
         "name": "Storm Sewage Drain",
         "rawType": "float64",
         "type": "float"
        },
        {
         "name": "Association Amenities",
         "rawType": "float64",
         "type": "float"
        },
        {
         "name": "Balcony",
         "rawType": "float64",
         "type": "float"
        },
        {
         "name": "Acreage Range",
         "rawType": "float64",
         "type": "float"
        },
        {
         "name": "Exterior Build",
         "rawType": "float64",
         "type": "float"
        },
        {
         "name": "Lot Description",
         "rawType": "float64",
         "type": "float"
        },
        {
         "name": "Lot Shape",
         "rawType": "float64",
         "type": "float"
        },
        {
         "name": "Lock Box",
         "rawType": "float64",
         "type": "float"
        },
        {
         "name": "Security Features",
         "rawType": "float64",
         "type": "float"
        },
        {
         "name": "Tenant Pays",
         "rawType": "float64",
         "type": "float"
        },
        {
         "name": "Owner Pays",
         "rawType": "float64",
         "type": "float"
        },
        {
         "name": "Rent Includes",
         "rawType": "float64",
         "type": "float"
        },
        {
         "name": "Assessed Fees",
         "rawType": "float64",
         "type": "float"
        },
        {
         "name": "Association Fee Frequency",
         "rawType": "float64",
         "type": "float"
        },
        {
         "name": "Telephone Service",
         "rawType": "float64",
         "type": "float"
        },
        {
         "name": "TV Service",
         "rawType": "float64",
         "type": "float"
        },
        {
         "name": "Utilities",
         "rawType": "float64",
         "type": "float"
        },
        {
         "name": "Utilities Included",
         "rawType": "float64",
         "type": "float"
        },
        {
         "name": "Utility Description",
         "rawType": "float64",
         "type": "float"
        },
        {
         "name": "Waste",
         "rawType": "float64",
         "type": "float"
        },
        {
         "name": "Water",
         "rawType": "object",
         "type": "unknown"
        },
        {
         "name": "Water Heater",
         "rawType": "float64",
         "type": "float"
        },
        {
         "name": "Water Heater Location",
         "rawType": "float64",
         "type": "float"
        },
        {
         "name": "Water Heating Paid By",
         "rawType": "float64",
         "type": "float"
        },
        {
         "name": "Water Paid By",
         "rawType": "float64",
         "type": "float"
        },
        {
         "name": "Water Purifier",
         "rawType": "float64",
         "type": "float"
        },
        {
         "name": "Water Service",
         "rawType": "float64",
         "type": "float"
        },
        {
         "name": "Water Softener",
         "rawType": "float64",
         "type": "float"
        },
        {
         "name": "Water Source",
         "rawType": "float64",
         "type": "float"
        },
        {
         "name": "Water Treatment",
         "rawType": "float64",
         "type": "float"
        },
        {
         "name": "Water Type",
         "rawType": "float64",
         "type": "float"
        },
        {
         "name": "Common Interest",
         "rawType": "float64",
         "type": "float"
        },
        {
         "name": "Business Type",
         "rawType": "float64",
         "type": "float"
        },
        {
         "name": "Commercial Type",
         "rawType": "float64",
         "type": "float"
        },
        {
         "name": "Complex",
         "rawType": "float64",
         "type": "float"
        },
        {
         "name": "Condo Management",
         "rawType": "float64",
         "type": "float"
        },
        {
         "name": "Condo Name",
         "rawType": "float64",
         "type": "float"
        },
        {
         "name": "Current Use",
         "rawType": "float64",
         "type": "float"
        },
        {
         "name": "Disclosures/Documents",
         "rawType": "float64",
         "type": "float"
        },
        {
         "name": "Documents On File",
         "rawType": "float64",
         "type": "float"
        },
        {
         "name": "Dues Frequency",
         "rawType": "float64",
         "type": "float"
        },
        {
         "name": "Electric (amps)",
         "rawType": "float64",
         "type": "float"
        },
        {
         "name": "Electric (volts)",
         "rawType": "float64",
         "type": "float"
        },
        {
         "name": "Electric Paid By",
         "rawType": "float64",
         "type": "float"
        },
        {
         "name": "Escape Clause",
         "rawType": "float64",
         "type": "float"
        },
        {
         "name": "Farm",
         "rawType": "float64",
         "type": "float"
        },
        {
         "name": "Farm Type",
         "rawType": "float64",
         "type": "float"
        },
        {
         "name": "Fee Frequency",
         "rawType": "float64",
         "type": "float"
        },
        {
         "name": "Fee Includes",
         "rawType": "float64",
         "type": "float"
        },
        {
         "name": "Financing",
         "rawType": "float64",
         "type": "float"
        },
        {
         "name": "For Sale or Lease",
         "rawType": "float64",
         "type": "float"
        },
        {
         "name": "FP Fuel",
         "rawType": "float64",
         "type": "float"
        },
        {
         "name": "Franchise",
         "rawType": "float64",
         "type": "float"
        },
        {
         "name": "Grade Level Entry Y/N",
         "rawType": "float64",
         "type": "float"
        },
        {
         "name": "HOA Includes",
         "rawType": "float64",
         "type": "float"
        },
        {
         "name": "HOA Pay Schedule",
         "rawType": "float64",
         "type": "float"
        },
        {
         "name": "HOA Terms",
         "rawType": "float64",
         "type": "float"
        },
        {
         "name": "Income Property",
         "rawType": "float64",
         "type": "float"
        },
        {
         "name": "Insurance Paid By",
         "rawType": "float64",
         "type": "float"
        },
        {
         "name": "Lease Includes",
         "rawType": "float64",
         "type": "float"
        },
        {
         "name": "Maintenance Paid By",
         "rawType": "float64",
         "type": "float"
        },
        {
         "name": "Management",
         "rawType": "float64",
         "type": "float"
        },
        {
         "name": "Mobile Home Type",
         "rawType": "float64",
         "type": "float"
        },
        {
         "name": "Nearest Town",
         "rawType": "float64",
         "type": "float"
        },
        {
         "name": "Occupied By",
         "rawType": "float64",
         "type": "float"
        },
        {
         "name": "Percolation Test",
         "rawType": "float64",
         "type": "float"
        },
        {
         "name": "Possession",
         "rawType": "float64",
         "type": "float"
        },
        {
         "name": "Present Use",
         "rawType": "float64",
         "type": "float"
        },
        {
         "name": "Price Type",
         "rawType": "float64",
         "type": "float"
        },
        {
         "name": "Property Sub Type",
         "rawType": "float64",
         "type": "float"
        },
        {
         "name": "Property Subtype",
         "rawType": "float64",
         "type": "float"
        },
        {
         "name": "Property Type Detail",
         "rawType": "float64",
         "type": "float"
        },
        {
         "name": "Quarter",
         "rawType": "float64",
         "type": "float"
        },
        {
         "name": "Range",
         "rawType": "float64",
         "type": "float"
        },
        {
         "name": "Recreation",
         "rawType": "float64",
         "type": "float"
        },
        {
         "name": "Rental Type",
         "rawType": "float64",
         "type": "float"
        },
        {
         "name": "Residence",
         "rawType": "float64",
         "type": "float"
        },
        {
         "name": "Restrictions",
         "rawType": "float64",
         "type": "float"
        },
        {
         "name": "Restrictions/Covenants",
         "rawType": "float64",
         "type": "float"
        },
        {
         "name": "Sale Rent",
         "rawType": "float64",
         "type": "float"
        },
        {
         "name": "Sale Terms",
         "rawType": "float64",
         "type": "float"
        },
        {
         "name": "Sale Type",
         "rawType": "float64",
         "type": "float"
        },
        {
         "name": "SaleOrRent",
         "rawType": "float64",
         "type": "float"
        },
        {
         "name": "Showing Instructions",
         "rawType": "float64",
         "type": "float"
        },
        {
         "name": "Soil Test",
         "rawType": "float64",
         "type": "float"
        },
        {
         "name": "Sub Property Type",
         "rawType": "float64",
         "type": "float"
        },
        {
         "name": "Sub Type",
         "rawType": "float64",
         "type": "float"
        },
        {
         "name": "Survey Available",
         "rawType": "float64",
         "type": "float"
        },
        {
         "name": "Taxes Paid By",
         "rawType": "float64",
         "type": "float"
        },
        {
         "name": "Terms",
         "rawType": "float64",
         "type": "float"
        },
        {
         "name": "Title",
         "rawType": "float64",
         "type": "float"
        },
        {
         "name": "Parking Features",
         "rawType": "object",
         "type": "string"
        },
        {
         "name": "Fireplace Features",
         "rawType": "object",
         "type": "string"
        },
        {
         "name": "Board",
         "rawType": "float64",
         "type": "float"
        },
        {
         "name": "Foundation/Basement",
         "rawType": "float64",
         "type": "float"
        },
        {
         "name": "Rental Equipment",
         "rawType": "float64",
         "type": "float"
        },
        {
         "name": "Sign",
         "rawType": "float64",
         "type": "float"
        },
        {
         "name": "Condo Management Firm",
         "rawType": "float64",
         "type": "float"
        },
        {
         "name": "Condo Fees Include",
         "rawType": "float64",
         "type": "float"
        },
        {
         "name": "Condo Fees Assessed Y/N",
         "rawType": "float64",
         "type": "float"
        },
        {
         "name": "Bare Land YN",
         "rawType": "float64",
         "type": "float"
        },
        {
         "name": "Condo Fees",
         "rawType": "float64",
         "type": "float"
        },
        {
         "name": "Distance To High School",
         "rawType": "float64",
         "type": "float"
        },
        {
         "name": "Drinking Water Y/N",
         "rawType": "float64",
         "type": "float"
        },
        {
         "name": "Distance To Town",
         "rawType": "float64",
         "type": "float"
        },
        {
         "name": "Distance To Elementary School",
         "rawType": "float64",
         "type": "float"
        },
        {
         "name": "Community Name",
         "rawType": "float64",
         "type": "float"
        },
        {
         "name": "Amenities",
         "rawType": "float64",
         "type": "float"
        },
        {
         "name": "Structure",
         "rawType": "float64",
         "type": "float"
        },
        {
         "name": "Surface Water",
         "rawType": "float64",
         "type": "float"
        },
        {
         "name": "Utilities Available",
         "rawType": "float64",
         "type": "float"
        },
        {
         "name": "Ensuite 4-Piece Level",
         "rawType": "float64",
         "type": "float"
        },
        {
         "name": "Storage Room Level",
         "rawType": "float64",
         "type": "float"
        },
        {
         "name": "Age Description",
         "rawType": "float64",
         "type": "float"
        },
        {
         "name": "Bath 2-Piece Level",
         "rawType": "float64",
         "type": "float"
        },
        {
         "name": "Bath 3-Piece Level",
         "rawType": "float64",
         "type": "float"
        },
        {
         "name": "Foyer Level",
         "rawType": "float64",
         "type": "float"
        },
        {
         "name": "Bath 4-Piece Level",
         "rawType": "float64",
         "type": "float"
        },
        {
         "name": "Bedroom Level",
         "rawType": "float64",
         "type": "float"
        },
        {
         "name": "Walk In Closet Level",
         "rawType": "float64",
         "type": "float"
        },
        {
         "name": "Sewer Type",
         "rawType": "float64",
         "type": "float"
        },
        {
         "name": "Last Change Type",
         "rawType": "float64",
         "type": "float"
        },
        {
         "name": "Kitchen Level",
         "rawType": "float64",
         "type": "float"
        },
        {
         "name": "Dwelling Type",
         "rawType": "float64",
         "type": "float"
        },
        {
         "name": "Primary Bedrm Level",
         "rawType": "float64",
         "type": "float"
        },
        {
         "name": "Assoc",
         "rawType": "float64",
         "type": "float"
        },
        {
         "name": "Living Room Level",
         "rawType": "float64",
         "type": "float"
        },
        {
         "name": "Recreation Room Level",
         "rawType": "float64",
         "type": "float"
        },
        {
         "name": "Dining Room Level",
         "rawType": "float64",
         "type": "float"
        },
        {
         "name": "Laundry Room Level",
         "rawType": "float64",
         "type": "float"
        },
        {
         "name": "Rental Features",
         "rawType": "float64",
         "type": "float"
        },
        {
         "name": "Assoc/Maint Fee Per",
         "rawType": "float64",
         "type": "float"
        },
        {
         "name": "Living Area",
         "rawType": "float64",
         "type": "float"
        },
        {
         "name": "Zoning",
         "rawType": "float64",
         "type": "float"
        },
        {
         "name": "Architectural Style",
         "rawType": "float64",
         "type": "float"
        },
        {
         "name": "Lot Features",
         "rawType": "float64",
         "type": "float"
        },
        {
         "name": "Maintenance",
         "rawType": "float64",
         "type": "float"
        },
        {
         "name": "Water/Sewer",
         "rawType": "float64",
         "type": "float"
        },
        {
         "name": "Double",
         "rawType": "float64",
         "type": "float"
        },
        {
         "name": "Land Features",
         "rawType": "float64",
         "type": "float"
        },
        {
         "name": "MLS",
         "rawType": "object",
         "type": "string"
        },
        {
         "name": "Sub Area",
         "rawType": "float64",
         "type": "float"
        },
        {
         "name": "Building Features",
         "rawType": "float64",
         "type": "float"
        },
        {
         "name": "Lease Type",
         "rawType": "float64",
         "type": "float"
        },
        {
         "name": "Municipality",
         "rawType": "float64",
         "type": "float"
        },
        {
         "name": "Community Features",
         "rawType": "float64",
         "type": "float"
        },
        {
         "name": "Elevator",
         "rawType": "float64",
         "type": "float"
        },
        {
         "name": "MLS Area Minor",
         "rawType": "float64",
         "type": "float"
        },
        {
         "name": "View",
         "rawType": "float64",
         "type": "float"
        },
        {
         "name": "Foundation Details",
         "rawType": "float64",
         "type": "float"
        },
        {
         "name": "SqFt Range",
         "rawType": "float64",
         "type": "float"
        },
        {
         "name": "Building Area Source",
         "rawType": "float64",
         "type": "float"
        },
        {
         "name": "Buyer Agent Designation",
         "rawType": "float64",
         "type": "float"
        },
        {
         "name": "Lot Measurement",
         "rawType": "float64",
         "type": "float"
        },
        {
         "name": "Lot Size Source",
         "rawType": "float64",
         "type": "float"
        },
        {
         "name": "Topography",
         "rawType": "float64",
         "type": "float"
        },
        {
         "name": "Current Financing",
         "rawType": "float64",
         "type": "float"
        }
       ],
       "ref": "a4f8a07c-1ba4-4d37-ae62-ac4acfc8f708",
       "rows": [
        [
         "0",
         "0",
         "8 Long Road, Durrell (Twillingate), NL A0G4M0",
         "Durrell (Twillingate)",
         "NL",
         "A0G4M0",
         "49.663209",
         "-54.75049",
         "Welcome to 8 Long Rd, nestled in the quiet community of Durrell, on Twillingate Island. This immaculate 3 bedroom, 2 full bath home spared no expense on it's many upgrades, from the designer kitchen to the ducted heat pump. Enter the split level to an inviting foyer and hall, the main artery of the home. Off to the right is the oversized, comfortable rec room with hardwood floors, perfect for the kids or watching the game. A full bathroom with tiled shower is tucked in the back corner of the rec room. Across the hall, you can enter the stunning kitchen with soft close cabinets and the dining room with access to the upper deck, a quiet space to enjoy your morning coffee as the sun rises from behind the hills. The dining room leads to the luxurious living room with propane fireplace, 9' ceilings and large window filling the space with natural light. Upstairs, you'll find another full bathroom with tiled bath/shower and master bedroom with his and her closets. Across the landing, there are two additional bedrooms, both with water views. Back down along the main hallway is the laundry room and stairs leading to the finished basement, currently used for storage. From here there is a door to the unfinished basement which has a crushed stone floor and insulated walls, offering more storage. This area also leads to the attached garage, an ideal workspace or mechanics hub. The large lot has plenty of room for parking along with a great yard with a firepit.  This home is a must see to appreciate the quality of craftmanship. (id:38686)",
         "359900.0",
         "CAD",
         "3.0",
         "2.0",
         "1,892",
         null,
         null,
         null,
         null,
         "[]",
         "0.0",
         null,
         null,
         null,
         null,
         null,
         null,
         null,
         null,
         null,
         null,
         null,
         "[\"Vinyl siding\"]",
         "[\"Vinyl siding\"]",
         null,
         "[\"Attached Garage\", \"Garage\"]",
         null,
         null,
         "Yes",
         null,
         null,
         null,
         null,
         null,
         null,
         null,
         null,
         null,
         null,
         "[\"Heat Pump\", \"Electric\", \"Propane\"]",
         null,
         null,
         null,
         null,
         null,
         null,
         null,
         null,
         null,
         null,
         null,
         null,
         null,
         null,
         "1281699",
         null,
         null,
         null,
         null,
         null,
         null,
         null,
         null,
         null,
         "0.0",
         null,
         null,
         "$1,588",
         "Single Family",
         "[]",
         null,
         null,
         null,
         null,
         null,
         "[\"Municipal sewage system\"]",
         "1,892 SQFT",
         null,
         null,
         null,
         null,
         null,
         null,
         null,
         "Single Family",
         null,
         null,
         null,
         null,
         null,
         null,
         null,
         null,
         null,
         null,
         null,
         null,
         null,
         null,
         null,
         null,
         "[\"Attached Garage\", \"Garage\"]",
         null,
         null,
         null,
         null,
         null,
         null,
         null,
         null,
         null,
         null,
         null,
         null,
         null,
         null,
         null,
         null,
         null,
         null,
         null,
         null,
         null,
         null,
         null,
         null,
         null,
         null,
         null,
         null,
         null,
         null,
         null,
         null,
         null,
         null,
         null,
         null,
         null,
         null,
         null,
         null,
         null,
         null,
         null,
         null,
         null,
         null,
         null,
         null,
         null,
         null,
         null,
         null,
         null,
         null,
         null,
         null,
         null,
         null,
         null,
         null,
         null,
         null,
         null,
         null,
         null,
         null,
         null,
         null,
         null,
         null,
         null,
         null,
         null,
         null,
         null,
         null,
         null,
         null,
         null,
         null,
         null,
         null,
         null,
         null,
         null,
         null,
         null,
         null,
         null,
         null,
         "[\"Hardwood\", \"Laminate\", \"Mixed Flooring\"]",
         null,
         null,
         null,
         null,
         null,
         null,
         null,
         null,
         null,
         null,
         null,
         null,
         null,
         null,
         null,
         null,
         null,
         null,
         null,
         null,
         null,
         null,
         null,
         null,
         null,
         null,
         null,
         null,
         null,
         null,
         null,
         null,
         null,
         null,
         null,
         null,
         null,
         null,
         null,
         null,
         null,
         null,
         null,
         null,
         null,
         null,
         null,
         null,
         null,
         null,
         null,
         null,
         null,
         null,
         null,
         null,
         null,
         null,
         null,
         null,
         null,
         null,
         null,
         null,
         null,
         null,
         null,
         null,
         null,
         null,
         null,
         null,
         null,
         null,
         null,
         null,
         null,
         null,
         null,
         null,
         null,
         null,
         null,
         null,
         null,
         null,
         null,
         null,
         null,
         null,
         null,
         null,
         null,
         null,
         null,
         null,
         null,
         null,
         null,
         null,
         null,
         null,
         null,
         null,
         null,
         null,
         null,
         null,
         null,
         null,
         null,
         null,
         null,
         null,
         null,
         null,
         null,
         null,
         null,
         null,
         null,
         null,
         null,
         null,
         null,
         null,
         null,
         null,
         null,
         null,
         "[\"Attached Garage\", \"Garage\"]",
         "[\"Insert\", \"Propane\"]",
         null,
         null,
         null,
         null,
         null,
         null,
         null,
         null,
         null,
         null,
         null,
         null,
         null,
         null,
         null,
         null,
         null,
         null,
         null,
         null,
         null,
         null,
         null,
         null,
         null,
         null,
         null,
         null,
         null,
         null,
         null,
         null,
         null,
         null,
         null,
         null,
         null,
         null,
         null,
         null,
         null,
         null,
         null,
         null,
         null,
         null,
         null,
         "1281699",
         null,
         null,
         null,
         null,
         null,
         null,
         null,
         null,
         null,
         null,
         null,
         null,
         null,
         null,
         null,
         null
        ],
        [
         "1",
         "1",
         "720 Stirling Crescent, Labrador City, NL A2V1Y9",
         "Labrador City",
         "NL",
         "A2V1Y9",
         "52.93981",
         "-66.919526",
         "This 3 bedroom 2 bath duplex is a must-see! It is very well taken care of.  The home has a fully developed basement and a 12 x 22 barn-style garage. Large 45 x 90 landscaped lot that is mostly fenced in. The front entrance has laminate flooring and a large closet. The kitchen has laminate flooring and beautiful golden oak cabinets. The home has all vinyl windows throughout. The dining room has hardwood flooring, a new ceiling fixture, and crown moldings throughout the house. The living room also has hardwood floors and a large 4-panel window. All three bedrooms have laminate flooring, crown moldings, large closets, and ceiling fans. The bathroom has a new vanity, a 3-piece tub kit, and a large mirror. The basement is fully developed with carpet flooring, gyprock walls, and a second bathroom with a beautiful dark vanity. This home is being sold fully furnished, making it ideal for first-time buyers. Don't miss out on this great home. (id:38686)",
         "389000.0",
         "CAD",
         "3.0",
         "2.0",
         "1,228",
         null,
         null,
         null,
         null,
         "[]",
         "0.0",
         null,
         null,
         null,
         null,
         null,
         null,
         null,
         null,
         null,
         null,
         null,
         "[\"Other\"]",
         "[\"Other\"]",
         null,
         "[\"Detached Garage\"]",
         null,
         null,
         "[]",
         null,
         null,
         null,
         null,
         null,
         null,
         null,
         null,
         null,
         null,
         "[\"Baseboard heaters\"]",
         null,
         null,
         null,
         null,
         null,
         null,
         null,
         null,
         null,
         null,
         null,
         null,
         null,
         null,
         "1281713",
         null,
         null,
         null,
         null,
         null,
         null,
         null,
         null,
         null,
         "0.0",
         null,
         null,
         "$1,886 (2025)",
         "Single Family",
         "[]",
         null,
         null,
         null,
         null,
         null,
         "[\"Municipal sewage system\"]",
         "1,228 SQFT",
         null,
         null,
         null,
         null,
         null,
         null,
         null,
         "Single Family",
         null,
         null,
         null,
         null,
         null,
         null,
         null,
         null,
         null,
         null,
         null,
         null,
         null,
         null,
         null,
         null,
         "[\"Detached Garage\"]",
         null,
         null,
         null,
         null,
         null,
         null,
         null,
         null,
         null,
         null,
         null,
         null,
         null,
         null,
         null,
         null,
         null,
         null,
         null,
         null,
         null,
         null,
         null,
         null,
         null,
         null,
         null,
         null,
         null,
         null,
         null,
         null,
         null,
         null,
         null,
         null,
         null,
         null,
         null,
         null,
         null,
         null,
         null,
         null,
         null,
         null,
         null,
         null,
         null,
         null,
         null,
         null,
         null,
         null,
         null,
         null,
         null,
         null,
         null,
         null,
         null,
         null,
         null,
         null,
         null,
         null,
         null,
         null,
         null,
         null,
         null,
         null,
         null,
         null,
         null,
         null,
         null,
         null,
         null,
         null,
         null,
         null,
         null,
         null,
         null,
         null,
         null,
         null,
         null,
         null,
         "[\"Hardwood\", \"Laminate\"]",
         null,
         null,
         null,
         null,
         null,
         null,
         null,
         null,
         null,
         null,
         null,
         null,
         null,
         null,
         null,
         null,
         null,
         null,
         null,
         null,
         null,
         null,
         null,
         null,
         null,
         null,
         null,
         null,
         null,
         null,
         null,
         null,
         null,
         null,
         null,
         null,
         null,
         null,
         null,
         null,
         null,
         null,
         null,
         null,
         null,
         null,
         null,
         null,
         null,
         null,
         null,
         null,
         null,
         null,
         null,
         null,
         null,
         null,
         null,
         null,
         null,
         null,
         null,
         null,
         null,
         null,
         null,
         null,
         null,
         null,
         null,
         null,
         null,
         null,
         null,
         null,
         null,
         null,
         null,
         null,
         null,
         null,
         null,
         null,
         null,
         null,
         null,
         null,
         null,
         null,
         null,
         null,
         null,
         null,
         null,
         null,
         null,
         null,
         null,
         null,
         null,
         null,
         null,
         null,
         null,
         null,
         null,
         null,
         null,
         null,
         null,
         null,
         null,
         null,
         null,
         null,
         null,
         null,
         null,
         null,
         null,
         null,
         null,
         null,
         null,
         null,
         null,
         null,
         null,
         null,
         "[\"Detached Garage\"]",
         "[]",
         null,
         null,
         null,
         null,
         null,
         null,
         null,
         null,
         null,
         null,
         null,
         null,
         null,
         null,
         null,
         null,
         null,
         null,
         null,
         null,
         null,
         null,
         null,
         null,
         null,
         null,
         null,
         null,
         null,
         null,
         null,
         null,
         null,
         null,
         null,
         null,
         null,
         null,
         null,
         null,
         null,
         null,
         null,
         null,
         null,
         null,
         null,
         "1281713",
         null,
         null,
         null,
         null,
         null,
         null,
         null,
         null,
         null,
         null,
         null,
         null,
         null,
         null,
         null,
         null
        ],
        [
         "2",
         "2",
         "7 Tobin's Lane, Joe Batt's Arm, NL A0G2X0",
         "Joe Batt's Arm",
         "NL",
         "A0G2X0",
         "49.727183",
         "-54.155372",
         "With some renovations and creativity, turn this property  into your dream home..with an ocean view! Spacious eat-in kitchen with patio door to the huge 20x23 patio with a view!, living/dining area,  bedroom on the main floor as well as a family room with back door, laundry and full bath. Upstairs you’ll find 2 moderately sized bedrooms. This home has great potential! This property is being sold ‘as is, where is’. (id:38686)",
         "87500.0",
         "CAD",
         "3.0",
         "1.0",
         "1,708",
         null,
         null,
         null,
         null,
         "[]",
         "0.0",
         null,
         null,
         null,
         null,
         null,
         null,
         null,
         null,
         null,
         null,
         null,
         "[\"Vinyl siding\"]",
         "[\"Vinyl siding\"]",
         null,
         "[]",
         null,
         null,
         "[]",
         null,
         null,
         null,
         null,
         null,
         null,
         null,
         null,
         null,
         null,
         "[\"No heat\", \"Electric\"]",
         null,
         null,
         null,
         null,
         null,
         null,
         null,
         null,
         null,
         null,
         null,
         null,
         null,
         null,
         "1281744",
         null,
         null,
         null,
         null,
         null,
         null,
         null,
         null,
         null,
         "0.0",
         null,
         null,
         "$1,013 (2024)",
         "Single Family",
         "[]",
         null,
         null,
         null,
         null,
         null,
         "[\"Municipal sewage system\"]",
         "1,708 SQFT",
         null,
         null,
         null,
         null,
         null,
         null,
         null,
         "Single Family",
         null,
         null,
         null,
         null,
         null,
         null,
         null,
         null,
         null,
         null,
         null,
         null,
         null,
         null,
         null,
         null,
         "[]",
         null,
         null,
         null,
         null,
         null,
         null,
         null,
         null,
         null,
         null,
         null,
         null,
         null,
         null,
         null,
         null,
         null,
         null,
         null,
         null,
         null,
         null,
         null,
         null,
         null,
         null,
         null,
         null,
         null,
         null,
         null,
         null,
         null,
         null,
         null,
         null,
         null,
         null,
         null,
         null,
         null,
         null,
         null,
         null,
         null,
         null,
         null,
         null,
         null,
         null,
         null,
         null,
         null,
         null,
         null,
         null,
         null,
         null,
         null,
         null,
         null,
         null,
         null,
         null,
         null,
         null,
         null,
         null,
         null,
         null,
         null,
         null,
         null,
         null,
         null,
         null,
         null,
         null,
         null,
         null,
         null,
         null,
         null,
         null,
         null,
         null,
         null,
         null,
         null,
         null,
         "[\"Hardwood\", \"Carpeted\", \"Other\"]",
         null,
         null,
         null,
         null,
         null,
         null,
         null,
         null,
         null,
         null,
         null,
         null,
         null,
         null,
         null,
         null,
         null,
         null,
         null,
         null,
         null,
         null,
         null,
         null,
         null,
         null,
         null,
         null,
         null,
         null,
         null,
         null,
         null,
         null,
         null,
         null,
         null,
         null,
         null,
         null,
         null,
         null,
         null,
         null,
         null,
         null,
         null,
         null,
         null,
         null,
         null,
         null,
         null,
         null,
         null,
         null,
         null,
         null,
         null,
         null,
         null,
         null,
         null,
         null,
         null,
         null,
         null,
         null,
         null,
         null,
         null,
         null,
         null,
         null,
         null,
         null,
         null,
         null,
         null,
         null,
         null,
         null,
         null,
         null,
         null,
         null,
         null,
         null,
         null,
         null,
         null,
         null,
         null,
         null,
         null,
         null,
         null,
         null,
         null,
         null,
         null,
         null,
         null,
         null,
         null,
         null,
         null,
         null,
         null,
         null,
         null,
         null,
         null,
         null,
         null,
         null,
         null,
         null,
         null,
         null,
         null,
         null,
         null,
         null,
         null,
         null,
         null,
         null,
         null,
         null,
         "[]",
         "[]",
         null,
         null,
         null,
         null,
         null,
         null,
         null,
         null,
         null,
         null,
         null,
         null,
         null,
         null,
         null,
         null,
         null,
         null,
         null,
         null,
         null,
         null,
         null,
         null,
         null,
         null,
         null,
         null,
         null,
         null,
         null,
         null,
         null,
         null,
         null,
         null,
         null,
         null,
         null,
         null,
         null,
         null,
         null,
         null,
         null,
         null,
         null,
         "1281744",
         null,
         null,
         null,
         null,
         null,
         null,
         null,
         null,
         null,
         null,
         null,
         null,
         null,
         null,
         null,
         null
        ],
        [
         "3",
         "3",
         "66 Cabot Drive, Wabush, NL A0R1B0",
         "Wabush",
         "NL",
         "A0R1B0",
         "52.89627",
         "-66.864862",
         "Welcome home to this beautifully maintained 4-bedroom duplex—a perfect fit for a growing family! Located across from a playground, this home offers both comfort and convenience in a prime location. Step inside to a spacious front foyer leading to an inviting main level with hardwood, ceramic, and laminate flooring throughout. French doors open into the main living area, creating a warm and welcoming space. The bright kitchen and dining area overlook the backyard, where you’ll find a fully fenced yard and a lovely patio with stunning water views—ideal for relaxing or entertaining. Upstairs, you’ll find four well-sized bedrooms and a full bath, while the partially finished basement offers extra space for a rec room, multimedia area, or playroom. The home features vinyl thermal windows for added energy efficiency and comfort. The attached 20' x 30' garage provides plenty of room for parking and storage. This home has been freshly painted on the exterior within the last two years and comes with all appliances plus most furniture (list available upon request)—making it truly move-in ready. Home is 200 amp panel and garage has its own panel. Don’t miss out on this fantastic opportunity. Book your private viewing today! (id:38686)",
         "349000.0",
         "CAD",
         "4.0",
         "2.0",
         "1,960",
         null,
         null,
         null,
         null,
         "[]",
         "1.0",
         null,
         null,
         null,
         null,
         null,
         null,
         null,
         null,
         null,
         null,
         null,
         "[\"Other\"]",
         "[\"Other\"]",
         null,
         "[\"Attached Garage\"]",
         null,
         null,
         "[]",
         null,
         null,
         null,
         null,
         null,
         null,
         null,
         null,
         null,
         null,
         "[\"Electric\"]",
         null,
         null,
         null,
         null,
         null,
         null,
         null,
         null,
         null,
         null,
         null,
         null,
         null,
         null,
         "1281636",
         null,
         null,
         null,
         null,
         null,
         null,
         null,
         null,
         null,
         "1.0",
         null,
         null,
         "$2,056 (2024)",
         "Single Family",
         "[]",
         null,
         null,
         null,
         null,
         null,
         "[\"Municipal sewage system\"]",
         "1,960 SQFT",
         null,
         null,
         null,
         null,
         null,
         null,
         null,
         "Single Family",
         null,
         null,
         null,
         null,
         null,
         null,
         null,
         null,
         null,
         null,
         null,
         null,
         null,
         null,
         null,
         null,
         "[\"Attached Garage\"]",
         null,
         null,
         null,
         null,
         null,
         null,
         null,
         null,
         null,
         null,
         null,
         null,
         null,
         null,
         null,
         null,
         null,
         null,
         null,
         null,
         null,
         null,
         null,
         null,
         null,
         null,
         null,
         null,
         null,
         null,
         null,
         null,
         null,
         null,
         null,
         null,
         null,
         null,
         null,
         null,
         null,
         null,
         null,
         null,
         null,
         null,
         null,
         null,
         null,
         null,
         null,
         null,
         null,
         null,
         null,
         null,
         null,
         null,
         null,
         null,
         null,
         null,
         null,
         null,
         null,
         null,
         null,
         null,
         null,
         null,
         null,
         null,
         null,
         null,
         null,
         null,
         null,
         null,
         null,
         null,
         null,
         null,
         null,
         null,
         null,
         null,
         null,
         null,
         null,
         null,
         "[\"Hardwood\", \"Laminate\", \"Mixed Flooring\"]",
         null,
         null,
         null,
         null,
         null,
         null,
         null,
         null,
         null,
         null,
         null,
         null,
         null,
         null,
         null,
         null,
         null,
         null,
         null,
         null,
         null,
         null,
         null,
         null,
         null,
         null,
         null,
         null,
         null,
         null,
         null,
         null,
         null,
         null,
         null,
         null,
         null,
         null,
         null,
         null,
         null,
         null,
         null,
         null,
         null,
         null,
         null,
         null,
         null,
         null,
         null,
         null,
         null,
         null,
         null,
         null,
         null,
         null,
         null,
         null,
         null,
         null,
         null,
         null,
         null,
         null,
         null,
         null,
         null,
         null,
         null,
         null,
         null,
         null,
         null,
         null,
         null,
         null,
         null,
         null,
         null,
         null,
         null,
         null,
         null,
         null,
         null,
         null,
         null,
         null,
         null,
         null,
         null,
         null,
         null,
         null,
         null,
         null,
         null,
         null,
         null,
         null,
         null,
         null,
         null,
         null,
         null,
         null,
         null,
         null,
         null,
         null,
         null,
         null,
         null,
         null,
         null,
         null,
         null,
         null,
         null,
         null,
         null,
         null,
         null,
         null,
         null,
         null,
         null,
         null,
         "[\"Attached Garage\"]",
         "[]",
         null,
         null,
         null,
         null,
         null,
         null,
         null,
         null,
         null,
         null,
         null,
         null,
         null,
         null,
         null,
         null,
         null,
         null,
         null,
         null,
         null,
         null,
         null,
         null,
         null,
         null,
         null,
         null,
         null,
         null,
         null,
         null,
         null,
         null,
         null,
         null,
         null,
         null,
         null,
         null,
         null,
         null,
         null,
         null,
         null,
         null,
         null,
         "1281636",
         null,
         null,
         null,
         null,
         null,
         null,
         null,
         null,
         null,
         null,
         null,
         null,
         null,
         null,
         null,
         null
        ],
        [
         "4",
         "4",
         "12 Long Road, Twillingate, NL A0G1Y0",
         "Twillingate",
         "NL",
         "A0G1Y0",
         "49.6634336",
         "-54.7507492",
         "Nestled in a quiet community on Twillingate Island, this home is just a short stroll away from the beach and trails where you can handpick wild blueberries as you watch the fisherman come and go with their daily catch.  Set on a nice size lot, you enter the home into a large welcoming foyer, which leads to the chef's kitchen, large dining room along with a half bath with laundry. French doors open to the large back deck to enjoy the morning sunrise with views of the ocean. Also on the main floor, is a comfortable living room and master bedroom with an ensuite that includes a soaker jet bathtub. Upstairs, there are four bedrooms, three of which have an ensuite, perfect for the growing family or for hosting friends. As a bonus, the basement has a stunning two bedroom apartment with it's own entrance, perfect for an owner's retreat (man den/she shed) or to rent and help with the mortgage. The property is being sold furnished, all you need is to pack your bags! (id:38686)",
         "529900.0",
         "CAD",
         "7.0",
         "7.0",
         "2,208",
         null,
         null,
         null,
         null,
         "[]",
         "1.0",
         null,
         null,
         null,
         null,
         null,
         null,
         null,
         null,
         null,
         null,
         null,
         "[\"Vinyl siding\"]",
         "[\"Vinyl siding\"]",
         null,
         "[]",
         null,
         null,
         "[]",
         null,
         null,
         null,
         null,
         null,
         null,
         null,
         null,
         null,
         null,
         "[\"Electric\"]",
         null,
         null,
         null,
         null,
         null,
         null,
         null,
         null,
         null,
         null,
         null,
         null,
         null,
         null,
         "1281695",
         null,
         null,
         null,
         null,
         null,
         null,
         null,
         null,
         null,
         "1.0",
         null,
         null,
         "$5,400",
         "Single Family",
         "[]",
         null,
         null,
         null,
         null,
         null,
         "[\"Municipal sewage system\"]",
         "2,208 SQFT",
         null,
         null,
         null,
         null,
         null,
         null,
         null,
         "Single Family",
         null,
         null,
         null,
         null,
         null,
         null,
         null,
         null,
         null,
         null,
         null,
         null,
         null,
         null,
         null,
         null,
         "[]",
         null,
         null,
         null,
         null,
         null,
         null,
         null,
         null,
         null,
         null,
         null,
         null,
         null,
         null,
         null,
         null,
         null,
         null,
         null,
         null,
         null,
         null,
         null,
         null,
         null,
         null,
         null,
         null,
         null,
         null,
         null,
         null,
         null,
         null,
         null,
         null,
         null,
         null,
         null,
         null,
         null,
         null,
         null,
         null,
         null,
         null,
         null,
         null,
         null,
         null,
         null,
         null,
         null,
         null,
         null,
         null,
         null,
         null,
         null,
         null,
         null,
         null,
         null,
         null,
         null,
         null,
         null,
         null,
         null,
         null,
         null,
         null,
         null,
         null,
         null,
         null,
         null,
         null,
         null,
         null,
         null,
         null,
         null,
         null,
         null,
         null,
         null,
         null,
         null,
         null,
         "[\"Mixed Flooring\"]",
         null,
         null,
         null,
         null,
         null,
         null,
         null,
         null,
         null,
         null,
         null,
         null,
         null,
         null,
         null,
         null,
         null,
         null,
         null,
         null,
         null,
         null,
         null,
         null,
         null,
         null,
         null,
         null,
         null,
         null,
         null,
         null,
         null,
         null,
         null,
         null,
         null,
         null,
         null,
         null,
         null,
         null,
         null,
         null,
         null,
         null,
         null,
         null,
         null,
         null,
         null,
         null,
         null,
         null,
         null,
         null,
         null,
         null,
         null,
         null,
         null,
         null,
         null,
         null,
         null,
         null,
         null,
         null,
         null,
         null,
         null,
         null,
         null,
         null,
         null,
         null,
         null,
         null,
         null,
         null,
         null,
         null,
         null,
         null,
         null,
         null,
         null,
         null,
         null,
         null,
         null,
         null,
         null,
         null,
         null,
         null,
         null,
         null,
         null,
         null,
         null,
         null,
         null,
         null,
         null,
         null,
         null,
         null,
         null,
         null,
         null,
         null,
         null,
         null,
         null,
         null,
         null,
         null,
         null,
         null,
         null,
         null,
         null,
         null,
         null,
         null,
         null,
         null,
         null,
         null,
         "[]",
         "[]",
         null,
         null,
         null,
         null,
         null,
         null,
         null,
         null,
         null,
         null,
         null,
         null,
         null,
         null,
         null,
         null,
         null,
         null,
         null,
         null,
         null,
         null,
         null,
         null,
         null,
         null,
         null,
         null,
         null,
         null,
         null,
         null,
         null,
         null,
         null,
         null,
         null,
         null,
         null,
         null,
         null,
         null,
         null,
         null,
         null,
         null,
         null,
         "1281695",
         null,
         null,
         null,
         null,
         null,
         null,
         null,
         null,
         null,
         null,
         null,
         null,
         null,
         null,
         null,
         null
        ]
       ],
       "shape": {
        "columns": 397,
        "rows": 5
       }
      },
      "text/html": [
       "<div>\n",
       "<style scoped>\n",
       "    .dataframe tbody tr th:only-of-type {\n",
       "        vertical-align: middle;\n",
       "    }\n",
       "\n",
       "    .dataframe tbody tr th {\n",
       "        vertical-align: top;\n",
       "    }\n",
       "\n",
       "    .dataframe thead th {\n",
       "        text-align: right;\n",
       "    }\n",
       "</style>\n",
       "<table border=\"1\" class=\"dataframe\">\n",
       "  <thead>\n",
       "    <tr style=\"text-align: right;\">\n",
       "      <th></th>\n",
       "      <th>Unnamed: 0</th>\n",
       "      <th>streetAddress</th>\n",
       "      <th>addressLocality</th>\n",
       "      <th>addressRegion</th>\n",
       "      <th>postalCode</th>\n",
       "      <th>latitude</th>\n",
       "      <th>longitude</th>\n",
       "      <th>description</th>\n",
       "      <th>price</th>\n",
       "      <th>priceCurrency</th>\n",
       "      <th>...</th>\n",
       "      <th>MLS Area Minor</th>\n",
       "      <th>View</th>\n",
       "      <th>Foundation Details</th>\n",
       "      <th>SqFt Range</th>\n",
       "      <th>Building Area Source</th>\n",
       "      <th>Buyer Agent Designation</th>\n",
       "      <th>Lot Measurement</th>\n",
       "      <th>Lot Size Source</th>\n",
       "      <th>Topography</th>\n",
       "      <th>Current Financing</th>\n",
       "    </tr>\n",
       "  </thead>\n",
       "  <tbody>\n",
       "    <tr>\n",
       "      <th>0</th>\n",
       "      <td>0</td>\n",
       "      <td>8 Long Road, Durrell (Twillingate), NL A0G4M0</td>\n",
       "      <td>Durrell (Twillingate)</td>\n",
       "      <td>NL</td>\n",
       "      <td>A0G4M0</td>\n",
       "      <td>49.663209</td>\n",
       "      <td>-54.750490</td>\n",
       "      <td>Welcome to 8 Long Rd, nestled in the quiet com...</td>\n",
       "      <td>359900.0</td>\n",
       "      <td>CAD</td>\n",
       "      <td>...</td>\n",
       "      <td>NaN</td>\n",
       "      <td>NaN</td>\n",
       "      <td>NaN</td>\n",
       "      <td>NaN</td>\n",
       "      <td>NaN</td>\n",
       "      <td>NaN</td>\n",
       "      <td>NaN</td>\n",
       "      <td>NaN</td>\n",
       "      <td>NaN</td>\n",
       "      <td>NaN</td>\n",
       "    </tr>\n",
       "    <tr>\n",
       "      <th>1</th>\n",
       "      <td>1</td>\n",
       "      <td>720 Stirling Crescent, Labrador City, NL A2V1Y9</td>\n",
       "      <td>Labrador City</td>\n",
       "      <td>NL</td>\n",
       "      <td>A2V1Y9</td>\n",
       "      <td>52.939810</td>\n",
       "      <td>-66.919526</td>\n",
       "      <td>This 3 bedroom 2 bath duplex is a must-see! It...</td>\n",
       "      <td>389000.0</td>\n",
       "      <td>CAD</td>\n",
       "      <td>...</td>\n",
       "      <td>NaN</td>\n",
       "      <td>NaN</td>\n",
       "      <td>NaN</td>\n",
       "      <td>NaN</td>\n",
       "      <td>NaN</td>\n",
       "      <td>NaN</td>\n",
       "      <td>NaN</td>\n",
       "      <td>NaN</td>\n",
       "      <td>NaN</td>\n",
       "      <td>NaN</td>\n",
       "    </tr>\n",
       "    <tr>\n",
       "      <th>2</th>\n",
       "      <td>2</td>\n",
       "      <td>7 Tobin's Lane, Joe Batt's Arm, NL A0G2X0</td>\n",
       "      <td>Joe Batt's Arm</td>\n",
       "      <td>NL</td>\n",
       "      <td>A0G2X0</td>\n",
       "      <td>49.727183</td>\n",
       "      <td>-54.155372</td>\n",
       "      <td>With some renovations and creativity, turn thi...</td>\n",
       "      <td>87500.0</td>\n",
       "      <td>CAD</td>\n",
       "      <td>...</td>\n",
       "      <td>NaN</td>\n",
       "      <td>NaN</td>\n",
       "      <td>NaN</td>\n",
       "      <td>NaN</td>\n",
       "      <td>NaN</td>\n",
       "      <td>NaN</td>\n",
       "      <td>NaN</td>\n",
       "      <td>NaN</td>\n",
       "      <td>NaN</td>\n",
       "      <td>NaN</td>\n",
       "    </tr>\n",
       "    <tr>\n",
       "      <th>3</th>\n",
       "      <td>3</td>\n",
       "      <td>66 Cabot Drive, Wabush, NL A0R1B0</td>\n",
       "      <td>Wabush</td>\n",
       "      <td>NL</td>\n",
       "      <td>A0R1B0</td>\n",
       "      <td>52.896270</td>\n",
       "      <td>-66.864862</td>\n",
       "      <td>Welcome home to this beautifully maintained 4-...</td>\n",
       "      <td>349000.0</td>\n",
       "      <td>CAD</td>\n",
       "      <td>...</td>\n",
       "      <td>NaN</td>\n",
       "      <td>NaN</td>\n",
       "      <td>NaN</td>\n",
       "      <td>NaN</td>\n",
       "      <td>NaN</td>\n",
       "      <td>NaN</td>\n",
       "      <td>NaN</td>\n",
       "      <td>NaN</td>\n",
       "      <td>NaN</td>\n",
       "      <td>NaN</td>\n",
       "    </tr>\n",
       "    <tr>\n",
       "      <th>4</th>\n",
       "      <td>4</td>\n",
       "      <td>12 Long Road, Twillingate, NL A0G1Y0</td>\n",
       "      <td>Twillingate</td>\n",
       "      <td>NL</td>\n",
       "      <td>A0G1Y0</td>\n",
       "      <td>49.663434</td>\n",
       "      <td>-54.750749</td>\n",
       "      <td>Nestled in a quiet community on Twillingate Is...</td>\n",
       "      <td>529900.0</td>\n",
       "      <td>CAD</td>\n",
       "      <td>...</td>\n",
       "      <td>NaN</td>\n",
       "      <td>NaN</td>\n",
       "      <td>NaN</td>\n",
       "      <td>NaN</td>\n",
       "      <td>NaN</td>\n",
       "      <td>NaN</td>\n",
       "      <td>NaN</td>\n",
       "      <td>NaN</td>\n",
       "      <td>NaN</td>\n",
       "      <td>NaN</td>\n",
       "    </tr>\n",
       "  </tbody>\n",
       "</table>\n",
       "<p>5 rows × 397 columns</p>\n",
       "</div>"
      ],
      "text/plain": [
       "   Unnamed: 0                                    streetAddress  \\\n",
       "0           0    8 Long Road, Durrell (Twillingate), NL A0G4M0   \n",
       "1           1  720 Stirling Crescent, Labrador City, NL A2V1Y9   \n",
       "2           2        7 Tobin's Lane, Joe Batt's Arm, NL A0G2X0   \n",
       "3           3                66 Cabot Drive, Wabush, NL A0R1B0   \n",
       "4           4             12 Long Road, Twillingate, NL A0G1Y0   \n",
       "\n",
       "         addressLocality addressRegion postalCode   latitude  longitude  \\\n",
       "0  Durrell (Twillingate)            NL     A0G4M0  49.663209 -54.750490   \n",
       "1          Labrador City            NL     A2V1Y9  52.939810 -66.919526   \n",
       "2         Joe Batt's Arm            NL     A0G2X0  49.727183 -54.155372   \n",
       "3                 Wabush            NL     A0R1B0  52.896270 -66.864862   \n",
       "4            Twillingate            NL     A0G1Y0  49.663434 -54.750749   \n",
       "\n",
       "                                         description     price priceCurrency  \\\n",
       "0  Welcome to 8 Long Rd, nestled in the quiet com...  359900.0           CAD   \n",
       "1  This 3 bedroom 2 bath duplex is a must-see! It...  389000.0           CAD   \n",
       "2  With some renovations and creativity, turn thi...   87500.0           CAD   \n",
       "3  Welcome home to this beautifully maintained 4-...  349000.0           CAD   \n",
       "4  Nestled in a quiet community on Twillingate Is...  529900.0           CAD   \n",
       "\n",
       "   ...  MLS Area Minor  View Foundation Details  SqFt Range  \\\n",
       "0  ...             NaN   NaN                NaN         NaN   \n",
       "1  ...             NaN   NaN                NaN         NaN   \n",
       "2  ...             NaN   NaN                NaN         NaN   \n",
       "3  ...             NaN   NaN                NaN         NaN   \n",
       "4  ...             NaN   NaN                NaN         NaN   \n",
       "\n",
       "   Building Area Source  Buyer Agent Designation  Lot Measurement  \\\n",
       "0                   NaN                      NaN              NaN   \n",
       "1                   NaN                      NaN              NaN   \n",
       "2                   NaN                      NaN              NaN   \n",
       "3                   NaN                      NaN              NaN   \n",
       "4                   NaN                      NaN              NaN   \n",
       "\n",
       "  Lot Size Source  Topography  Current Financing  \n",
       "0             NaN         NaN                NaN  \n",
       "1             NaN         NaN                NaN  \n",
       "2             NaN         NaN                NaN  \n",
       "3             NaN         NaN                NaN  \n",
       "4             NaN         NaN                NaN  \n",
       "\n",
       "[5 rows x 397 columns]"
      ]
     },
     "execution_count": 3,
     "metadata": {},
     "output_type": "execute_result"
    }
   ],
   "source": [
    "DATA_PATH = f'{DATA_DIR}/small_canada.csv'\n",
    "\n",
    "df = pd.read_csv('/home/aircsrv5/Quan/DataOps/DataOps-bootstrap/demo/include/data/small_canada.csv')\n",
    "df.head()"
   ]
  },
  {
   "cell_type": "code",
   "execution_count": 4,
   "id": "df22dc41",
   "metadata": {},
   "outputs": [],
   "source": [
    "import great_expectations as gx\n",
    "import great_expectations.expectations as gxe"
   ]
  },
  {
   "cell_type": "markdown",
   "id": "7c5e2779",
   "metadata": {},
   "source": [
    "# Markdown"
   ]
  },
  {
   "cell_type": "markdown",
   "id": "e518ff89",
   "metadata": {},
   "source": [
    "## Define GX context"
   ]
  },
  {
   "cell_type": "code",
   "execution_count": 5,
   "id": "ca080473",
   "metadata": {},
   "outputs": [],
   "source": [
    "# context = gx.get_context(mode=\"file\")\n",
    "# Retrieve your Data Context\n",
    "context = gx.get_context()\n",
    "assert type(context).__name__ == \"EphemeralDataContext\""
   ]
  },
  {
   "cell_type": "markdown",
   "id": "547d4acf",
   "metadata": {},
   "source": [
    "## Define Data Source"
   ]
  },
  {
   "cell_type": "code",
   "execution_count": 6,
   "id": "38bc9ff1",
   "metadata": {},
   "outputs": [],
   "source": [
    "import great_expectations as gx\n",
    "\n",
    "# Define the Data Source name\n",
    "data_source_name = \"canada_data_source\"\n",
    "\n",
    "# Add the Data Source to the Data Context\n",
    "data_source = context.data_sources.add_pandas(name=data_source_name)\n",
    "assert data_source.name == data_source_name"
   ]
  },
  {
   "cell_type": "markdown",
   "id": "3612448d",
   "metadata": {},
   "source": [
    "## Define Data Asset"
   ]
  },
  {
   "cell_type": "code",
   "execution_count": 7,
   "id": "baa70f8f",
   "metadata": {},
   "outputs": [],
   "source": [
    "import great_expectations as gx\n",
    "\n",
    "# Retrieve the Data Source\n",
    "data_source_name = \"canada_data_source\"\n",
    "data_source = context.data_sources.get(data_source_name)\n",
    "\n",
    "# Define the Data Asset name\n",
    "data_asset_name = \"canada_data_asset\"\n",
    "\n",
    "# Add a Data Asset to the Data Source\n",
    "data_asset = data_source.add_dataframe_asset(name=data_asset_name)\n",
    "\n",
    "assert data_asset.name == data_asset_name"
   ]
  },
  {
   "cell_type": "markdown",
   "id": "884be2dc",
   "metadata": {},
   "source": [
    "## Define a Batch Definition"
   ]
  },
  {
   "cell_type": "code",
   "execution_count": 8,
   "id": "e5014e67",
   "metadata": {},
   "outputs": [],
   "source": [
    "import great_expectations as gx\n",
    "\n",
    "# Retrieve the Data Asset\n",
    "data_source_name = \"canada_data_source\"\n",
    "data_asset_name = \"canada_data_asset\"\n",
    "data_asset = context.data_sources.get(data_source_name).get_asset(data_asset_name)\n",
    "\n",
    "# Define the Batch Definition name\n",
    "batch_definition_name = \"canada_batch_definition\"\n",
    "\n",
    "# Add a Batch Definition to the Data Asset\n",
    "batch_definition = data_asset.add_batch_definition_whole_dataframe(\n",
    "    batch_definition_name\n",
    ")\n",
    "assert batch_definition.name == batch_definition_name"
   ]
  },
  {
   "cell_type": "markdown",
   "id": "1567f469",
   "metadata": {},
   "source": [
    "## Define a Batch Parameters"
   ]
  },
  {
   "cell_type": "code",
   "execution_count": 9,
   "id": "a442ad6a",
   "metadata": {},
   "outputs": [],
   "source": [
    "import pandas as pd\n",
    "\n",
    "DATA_PATH = f'{DATA_DIR}/small_canada.csv'\n",
    "\n",
    "dataframe = pd.read_csv('/home/aircsrv5/Quan/DataOps/DataOps-bootstrap/demo/include/data/yellow_tripdata_sample_2019-01.csv')\n",
    "dataframe.head()\n",
    "\n",
    "batch_parameters = {\"dataframe\": dataframe}"
   ]
  },
  {
   "cell_type": "markdown",
   "id": "29849de4",
   "metadata": {},
   "source": [
    "## Define Expectations and Validate Batch against expectations"
   ]
  },
  {
   "cell_type": "code",
   "execution_count": 10,
   "id": "0e835f69",
   "metadata": {},
   "outputs": [
    {
     "name": "stderr",
     "output_type": "stream",
     "text": [
      "Calculating Metrics: 100%|██████████| 10/10 [00:00<00:00, 2805.93it/s]"
     ]
    },
    {
     "name": "stdout",
     "output_type": "stream",
     "text": [
      "{\n",
      "  \"success\": true,\n",
      "  \"expectation_config\": {\n",
      "    \"type\": \"expect_column_values_to_be_between\",\n",
      "    \"kwargs\": {\n",
      "      \"batch_id\": \"canada_data_source-canada_data_asset\",\n",
      "      \"column\": \"passenger_count\",\n",
      "      \"min_value\": 1.0,\n",
      "      \"max_value\": 6.0\n",
      "    },\n",
      "    \"meta\": {}\n",
      "  },\n",
      "  \"result\": {\n",
      "    \"element_count\": 10000,\n",
      "    \"unexpected_count\": 0,\n",
      "    \"unexpected_percent\": 0.0,\n",
      "    \"partial_unexpected_list\": [],\n",
      "    \"missing_count\": 0,\n",
      "    \"missing_percent\": 0.0,\n",
      "    \"unexpected_percent_total\": 0.0,\n",
      "    \"unexpected_percent_nonmissing\": 0.0,\n",
      "    \"partial_unexpected_counts\": [],\n",
      "    \"partial_unexpected_index_list\": []\n",
      "  },\n",
      "  \"meta\": {},\n",
      "  \"exception_info\": {\n",
      "    \"raised_exception\": false,\n",
      "    \"exception_traceback\": null,\n",
      "    \"exception_message\": null\n",
      "  }\n",
      "}\n"
     ]
    },
    {
     "name": "stderr",
     "output_type": "stream",
     "text": [
      "\n"
     ]
    }
   ],
   "source": [
    "import great_expectations as gx\n",
    "\n",
    "# Retrieve the dataframe Batch Definition\n",
    "data_source_name = \"canada_data_source\"\n",
    "data_asset_name = \"canada_data_asset\"\n",
    "batch_definition_name = \"canada_batch_definition\"\n",
    "batch_definition = (\n",
    "    context.data_sources.get(data_source_name)\n",
    "    .get_asset(data_asset_name)\n",
    "    .get_batch_definition(batch_definition_name)\n",
    ")\n",
    "\n",
    "# Create an Expectation to test\n",
    "expectation = gx.expectations.ExpectColumnValuesToBeBetween(\n",
    "    column=\"passenger_count\", max_value=6, min_value=1\n",
    ")\n",
    "\n",
    "# Get the dataframe as a Batch\n",
    "batch = batch_definition.get_batch(batch_parameters=batch_parameters)\n",
    "\n",
    "# Test the Expectation\n",
    "validation_results = batch.validate(expectation)\n",
    "print(validation_results)"
   ]
  },
  {
   "cell_type": "code",
   "execution_count": null,
   "id": "4e472819",
   "metadata": {},
   "outputs": [],
   "source": [
    "context.build_data_docs()\n"
   ]
  },
  {
   "cell_type": "code",
   "execution_count": 13,
   "id": "c5924c79",
   "metadata": {},
   "outputs": [],
   "source": [
    "context.open_data_docs()"
   ]
  }
 ],
 "metadata": {
  "kernelspec": {
   "display_name": "stuff",
   "language": "python",
   "name": "python3"
  },
  "language_info": {
   "codemirror_mode": {
    "name": "ipython",
    "version": 3
   },
   "file_extension": ".py",
   "mimetype": "text/x-python",
   "name": "python",
   "nbconvert_exporter": "python",
   "pygments_lexer": "ipython3",
   "version": "3.10.17"
  }
 },
 "nbformat": 4,
 "nbformat_minor": 5
}
